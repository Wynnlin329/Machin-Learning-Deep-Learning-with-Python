{
 "cells": [
  {
   "cell_type": "code",
   "execution_count": 7,
   "metadata": {},
   "outputs": [],
   "source": [
    "from keras.datasets import mnist\n",
    "from keras.utils import np_utils\n",
    "from keras.models import Sequential\n",
    "from keras.layers import Conv2D,MaxPooling2D,Dropout,Flatten,Dense\n",
    "import matplotlib.pyplot as plt\n",
    "from keras.layers import SimpleRNN,Dropout,Dense"
   ]
  },
  {
   "cell_type": "code",
   "execution_count": 2,
   "metadata": {},
   "outputs": [],
   "source": [
    "def show_images_labels_predictions(images,labels,predictions,start_id,num=10):#查看多筆訓練資料(數字圖片,真實值,預測值,起始資料,顯示圖片個數)\n",
    "    plt.gcf().set_size_inches(12,14)\n",
    "    if num>25: num=25\n",
    "    for i in range(num):\n",
    "        ax = plt.subplot(5,5, i+1)#顯示黑白圖片\n",
    "        ax.imshow(images[start_id], cmap = \"binary\")\n",
    "        \n",
    "        #有 AI預測結果資料,才在標題顯示預測結果\n",
    "        if( len(predictions)>0):\n",
    "            title = 'ai = ' +str(predictions[i])\n",
    "            #預測正確顯示(O) 錯誤顯示(X)\n",
    "            title += (' (O)' if predictions[i] == labels[i] else ' (X)')\n",
    "            title += '\\nlabel = ' + str(labels[i])\n",
    "        #沒有AI預測結果資料，只在標題顯示真實數值\n",
    "        else:\n",
    "            title = 'label = ' +str(labels[i])\n",
    "            \n",
    "        #X,Y 軸不顯示刻度\n",
    "        ax.set_title(title,fontsize=12)\n",
    "        ax.set_xticks([]);ax.set_yticks([])\n",
    "        start_id += 1\n",
    "    plt.show"
   ]
  },
  {
   "cell_type": "code",
   "execution_count": 3,
   "metadata": {},
   "outputs": [],
   "source": [
    "(train_feature ,train_label),(test_feature , test_label) = mnist.load_data()"
   ]
  },
  {
   "cell_type": "code",
   "execution_count": null,
   "metadata": {},
   "outputs": [],
   "source": [
    "#資料預處理"
   ]
  },
  {
   "cell_type": "code",
   "execution_count": null,
   "metadata": {},
   "outputs": [],
   "source": [
    "# Feature特徵值轉換"
   ]
  },
  {
   "cell_type": "code",
   "execution_count": 4,
   "metadata": {},
   "outputs": [],
   "source": [
    "train_feature_vector = train_feature.reshape(len(train_feature),28,28).astype('float32')\n",
    "test_feature_vector = test_feature.reshape(len(test_feature),28,28).astype('float32')"
   ]
  },
  {
   "cell_type": "code",
   "execution_count": null,
   "metadata": {},
   "outputs": [],
   "source": [
    "# Feature特徵值標準化"
   ]
  },
  {
   "cell_type": "code",
   "execution_count": 5,
   "metadata": {},
   "outputs": [],
   "source": [
    "train_feature_normalize = train_feature_vector/255\n",
    "test_feature_normalize = test_feature_vector/255"
   ]
  },
  {
   "cell_type": "code",
   "execution_count": null,
   "metadata": {},
   "outputs": [],
   "source": [
    "# 轉換 one-hot-encoding"
   ]
  },
  {
   "cell_type": "code",
   "execution_count": 6,
   "metadata": {},
   "outputs": [],
   "source": [
    "train_label_onehot = np_utils.to_categorical(train_label)\n",
    "test_label_onehot = np_utils.to_categorical(test_label)"
   ]
  },
  {
   "cell_type": "code",
   "execution_count": null,
   "metadata": {},
   "outputs": [],
   "source": [
    "#建立循環神經網路模型"
   ]
  },
  {
   "cell_type": "code",
   "execution_count": 40,
   "metadata": {},
   "outputs": [],
   "source": [
    "model = Sequential()"
   ]
  },
  {
   "cell_type": "code",
   "execution_count": null,
   "metadata": {},
   "outputs": [],
   "source": [
    "#建立Simple RNN層 : 原始圖片為28*28，建立RNN層每一行必須讀取28個像素input_size=28，每一張圖片要讀28次time_steps=28,隱藏層256個神經元"
   ]
  },
  {
   "cell_type": "code",
   "execution_count": 41,
   "metadata": {},
   "outputs": [],
   "source": [
    "model.add(SimpleRNN(input_shape = (28,28),\n",
    "                    units = 256,\n",
    "                    unroll = True))"
   ]
  },
  {
   "cell_type": "code",
   "execution_count": null,
   "metadata": {},
   "outputs": [],
   "source": [
    "#建立拋棄層 : 拋棄比例為10%"
   ]
  },
  {
   "cell_type": "code",
   "execution_count": 42,
   "metadata": {},
   "outputs": [],
   "source": [
    "model.add(Dropout(0.1))"
   ]
  },
  {
   "cell_type": "code",
   "execution_count": 34,
   "metadata": {},
   "outputs": [],
   "source": [
    "#建立輸出層 : 輸出神經元為10個"
   ]
  },
  {
   "cell_type": "code",
   "execution_count": 43,
   "metadata": {},
   "outputs": [],
   "source": [
    "model.add(Dense(units = 10 , \n",
    "                kernel_initializer = 'normal',\n",
    "                activation = 'softmax'))"
   ]
  },
  {
   "cell_type": "code",
   "execution_count": 36,
   "metadata": {},
   "outputs": [],
   "source": [
    "#訓練模型 : 以compile方法定義loss損失函式 optimizer與metrics"
   ]
  },
  {
   "cell_type": "code",
   "execution_count": 44,
   "metadata": {},
   "outputs": [],
   "source": [
    "model.compile(loss = 'categorical_crossentropy',optimizer = 'adam',metrics = ['accuracy'])"
   ]
  },
  {
   "cell_type": "code",
   "execution_count": 38,
   "metadata": {},
   "outputs": [],
   "source": [
    "#進行訓練 : 用fit方法進行訓練，訓練資料保留20%做驗證，因此訓練資料有0.8*60000=48000筆，驗證資料有0.2*60000=12000筆，訓練10次，每次讀200"
   ]
  },
  {
   "cell_type": "code",
   "execution_count": 45,
   "metadata": {},
   "outputs": [
    {
     "name": "stdout",
     "output_type": "stream",
     "text": [
      "Train on 48000 samples, validate on 12000 samples\n",
      "Epoch 1/10\n",
      " - 15s - loss: 0.4248 - accuracy: 0.8752 - val_loss: 0.1820 - val_accuracy: 0.9467\n",
      "Epoch 2/10\n",
      " - 13s - loss: 0.1857 - accuracy: 0.9459 - val_loss: 0.1638 - val_accuracy: 0.9513\n",
      "Epoch 3/10\n",
      " - 13s - loss: 0.1424 - accuracy: 0.9585 - val_loss: 0.1230 - val_accuracy: 0.9653\n",
      "Epoch 4/10\n",
      " - 13s - loss: 0.1209 - accuracy: 0.9644 - val_loss: 0.1004 - val_accuracy: 0.9703\n",
      "Epoch 5/10\n",
      " - 13s - loss: 0.1097 - accuracy: 0.9674 - val_loss: 0.1159 - val_accuracy: 0.9668\n",
      "Epoch 6/10\n",
      " - 14s - loss: 0.1020 - accuracy: 0.9691 - val_loss: 0.1126 - val_accuracy: 0.9663\n",
      "Epoch 7/10\n",
      " - 15s - loss: 0.0917 - accuracy: 0.9731 - val_loss: 0.1001 - val_accuracy: 0.9714\n",
      "Epoch 8/10\n",
      " - 15s - loss: 0.0820 - accuracy: 0.9765 - val_loss: 0.0955 - val_accuracy: 0.9722\n",
      "Epoch 9/10\n",
      " - 15s - loss: 0.0800 - accuracy: 0.9764 - val_loss: 0.1108 - val_accuracy: 0.9688\n",
      "Epoch 10/10\n",
      " - 15s - loss: 0.0797 - accuracy: 0.9763 - val_loss: 0.0996 - val_accuracy: 0.9707\n"
     ]
    }
   ],
   "source": [
    "train_history = model.fit(x = train_feature_normalize,\n",
    "                          y = train_label_onehot,\n",
    "                          validation_split = 0.2,\n",
    "                          epochs = 10,\n",
    "                          batch_size = 200 ,\n",
    "                          verbose = 2)"
   ]
  },
  {
   "cell_type": "code",
   "execution_count": null,
   "metadata": {},
   "outputs": [],
   "source": [
    "#評估準確率 : evaluate 可評估模型的損失函式誤差值跟準確率，第0個元素為誤差值，第1個為準確率"
   ]
  },
  {
   "cell_type": "code",
   "execution_count": 47,
   "metadata": {},
   "outputs": [
    {
     "name": "stdout",
     "output_type": "stream",
     "text": [
      "10000/10000 [==============================] - 2s 201us/step\n",
      "\n",
      "準確率 =  0.9731000065803528\n"
     ]
    }
   ],
   "source": [
    "scores = model.evaluate(test_feature_normalize , test_label_onehot)\n",
    "print('\\n準確率 = ',scores[1])"
   ]
  },
  {
   "cell_type": "code",
   "execution_count": 19,
   "metadata": {},
   "outputs": [],
   "source": [
    "#進行預測 : 以predict_classes預測"
   ]
  },
  {
   "cell_type": "code",
   "execution_count": 48,
   "metadata": {},
   "outputs": [],
   "source": [
    "prediction = model.predict_classes(test_feature_normalize)"
   ]
  },
  {
   "cell_type": "code",
   "execution_count": 49,
   "metadata": {},
   "outputs": [
    {
     "data": {
      "image/png": "[encoded data removed]",
      "text/plain": [
       "<Figure size 864x1008 with 10 Axes>"
      ]
     },
     "metadata": {},
     "output_type": "display_data"
    }
   ],
   "source": [
    "show_images_labels_predictions(test_feature,test_label,prediction,0)"
   ]
  },
  {
   "cell_type": "code",
   "execution_count": 46,
   "metadata": {},
   "outputs": [],
   "source": [
    "#模型儲存"
   ]
  },
  {
   "cell_type": "code",
   "execution_count": 50,
   "metadata": {},
   "outputs": [
    {
     "name": "stdout",
     "output_type": "stream",
     "text": [
      "載入模型失敗，開始訓練一個新模型!\n",
      "Train on 48000 samples, validate on 12000 samples\n",
      "Epoch 1/10\n",
      " - 21s - loss: 0.4678 - accuracy: 0.8637 - val_loss: 0.2236 - val_accuracy: 0.9345\n",
      "Epoch 2/10\n",
      " - 18s - loss: 0.2092 - accuracy: 0.9393 - val_loss: 0.1728 - val_accuracy: 0.9512\n",
      "Epoch 3/10\n",
      " - 18s - loss: 0.1631 - accuracy: 0.9532 - val_loss: 0.1464 - val_accuracy: 0.9586\n",
      "Epoch 4/10\n",
      " - 18s - loss: 0.1362 - accuracy: 0.9598 - val_loss: 0.1238 - val_accuracy: 0.9622\n",
      "Epoch 5/10\n",
      " - 18s - loss: 0.1136 - accuracy: 0.9659 - val_loss: 0.1305 - val_accuracy: 0.9600\n",
      "Epoch 6/10\n",
      " - 18s - loss: 0.1045 - accuracy: 0.9697 - val_loss: 0.1111 - val_accuracy: 0.9672\n",
      "Epoch 7/10\n",
      " - 18s - loss: 0.0922 - accuracy: 0.9733 - val_loss: 0.0883 - val_accuracy: 0.9751\n",
      "Epoch 8/10\n",
      " - 18s - loss: 0.0859 - accuracy: 0.9743 - val_loss: 0.0889 - val_accuracy: 0.9730\n",
      "Epoch 9/10\n",
      " - 18s - loss: 0.0798 - accuracy: 0.9758 - val_loss: 0.1160 - val_accuracy: 0.9697\n",
      "Epoch 10/10\n",
      " - 19s - loss: 0.0752 - accuracy: 0.9778 - val_loss: 0.0833 - val_accuracy: 0.9767\n",
      "10000/10000 [==============================] - 2s 198us/step\n",
      "\n",
      "準確率= 0.9739000201225281\n",
      "Mnist_Rnn_model.h5 模型儲存完畢!\n",
      "模型參數儲存完畢!\n"
     ]
    }
   ],
   "source": [
    "from keras.layers import SimpleRNN,Dropout,Dense\n",
    "import numpy as np\n",
    "from keras.utils import np_utils\n",
    "np.random.seed(10)\n",
    "from keras.datasets import mnist\n",
    "from keras.models import Sequential\n",
    "\n",
    "#建立訓練資料和測試資料，包括訓練特徵集、訓練標籤和測試特徵集、測試標籤\t\n",
    "(train_feature, train_label),\\\n",
    "(test_feature, test_label) = mnist.load_data()  \n",
    "\n",
    "#將 Features 特徵值換為 60000*28*28 的 3 維矩陣\n",
    "train_feature_vector =train_feature.reshape(len(train_feature),28,28).astype('float32')\n",
    "test_feature_vector = test_feature.reshape(len(test_feature),28,28).astype('float32')\n",
    "\n",
    "#Features 特徵值標準化\n",
    "train_feature_normalize = train_feature_vector/255\n",
    "test_feature_normalize = test_feature_vector/255\n",
    "\n",
    "#label 轉換為 One-Hot Encoding 編碼\n",
    "train_label_onehot = np_utils.to_categorical(train_label)\n",
    "test_label_onehot = np_utils.to_categorical(test_label)\n",
    "\n",
    "# 建立簡單的線性執行的模型\n",
    "model = Sequential()\n",
    "# 加入 SimpleRNN 層\n",
    "model.add(SimpleRNN(\n",
    "    # input_shape=(TIME_STEPS, INPUT_SIZE)\n",
    "    # TIME_STEPS 讀取次數，INPUT_SIZE 每次讀取多少個像素\n",
    "    input_shape=(28, 28), \n",
    "    units=256, # 隱藏層：256 個神經元\n",
    "    unroll=True, #計算時展開結構\n",
    ")) \n",
    "\n",
    "# Dropout層防止過度擬合，拋棄比例:0.1\n",
    "model.add(Dropout(0.1))\n",
    "\n",
    "# 輸出層\n",
    "model.add(Dense(units=10, kernel_initializer='normal', activation='softmax'))\n",
    "\n",
    "# 這些訓練會累積，準確會愈來愈高\n",
    "try:\n",
    "    model.load_weights(\"Mnist_Rnn_model.weight\")\n",
    "    print(\"載入模型參數成功，繼續訓練模型!\")\n",
    "except :    \n",
    "    print(\"載入模型失敗，開始訓練一個新模型!\")\n",
    "   \n",
    "#定義訓練方式:選擇損失函數、優化方法及成效衡量方式\n",
    "model.compile(loss='categorical_crossentropy', \n",
    "              optimizer='adam', metrics=['accuracy'])\n",
    "\n",
    "#以(train_feature_normalize,train_label_onehot)資料訓練，\n",
    "#訓練資料保留 20% 作驗證,訓練10次、每批次讀取200筆資料，顯示簡易訓練過程\n",
    "train_history =model.fit(x=train_feature_normalize,\n",
    "                         y=train_label_onehot,validation_split=0.2, \n",
    "                         epochs=10, batch_size=200,verbose=2)    \n",
    "\n",
    "#評估準確率\n",
    "scores = model.evaluate(test_feature_normalize, test_label_onehot)\n",
    "print('\\n準確率=',scores[1])\n",
    "    \n",
    "#將模型儲存至 HDF5檔案中\n",
    "model.save('Mnist_Rnn_model.h5')\n",
    "print(\"Mnist_Rnn_model.h5 模型儲存完畢!\")\n",
    "model.save_weights(\"Mnist_Rnn_model.weight\")\n",
    "print(\"模型參數儲存完畢!\")\n",
    "\n",
    "del model  "
   ]
  },
  {
   "cell_type": "code",
   "execution_count": null,
   "metadata": {},
   "outputs": [],
   "source": [
    "#載入模型"
   ]
  },
  {
   "cell_type": "code",
   "execution_count": 51,
   "metadata": {},
   "outputs": [
    {
     "name": "stdout",
     "output_type": "stream",
     "text": [
      "載入模型 Mnist_Rnn_model.h5\n"
     ]
    },
    {
     "data": {
      "image/png": "[encoded data removed]",
      "text/plain": [
       "<Figure size 864x1008 with 10 Axes>"
      ]
     },
     "metadata": {},
     "output_type": "display_data"
    }
   ],
   "source": [
    "import numpy as np\n",
    "np.random.seed(10)\n",
    "from keras.datasets import mnist\n",
    "import matplotlib.pyplot as plt\n",
    "from keras.models import load_model\n",
    "\n",
    "def show_images_labels_predictions(images,labels,\n",
    "                                  predictions,start_id,num=10):\n",
    "    plt.gcf().set_size_inches(12, 14)\n",
    "    if num>25: num=25 \n",
    "    for i in range(0, num):\n",
    "        ax=plt.subplot(5,5, 1+i)\n",
    "        #顯示黑白圖片\n",
    "        ax.imshow(images[start_id], cmap='binary')\n",
    "        \n",
    "        # 有 AI 預測結果資料, 才在標題顯示預測結果\n",
    "        if( len(predictions) > 0 ) :\n",
    "            title = 'ai = ' + str(predictions[i])\n",
    "            # 預測正確顯示(o), 錯誤顯示(x)\n",
    "            title += (' (o)' if predictions[i]==labels[i] else ' (x)') \n",
    "            title += '\\nlabel = ' + str(labels[i])\n",
    "        # 沒有 AI 預測結果資料, 只在標題顯示真實數值\n",
    "        else :\n",
    "            title = 'label = ' + str(labels[i])\n",
    "            \n",
    "        # X, Y 軸不顯示刻度    \n",
    "        ax.set_title(title,fontsize=12) \n",
    "        ax.set_xticks([]);ax.set_yticks([])        \n",
    "        start_id+=1 \n",
    "    plt.show()\n",
    "\n",
    "#建立訓練資料和測試資料，包括訓練特徵集、訓練標籤和測試特徵集、測試標籤\t\n",
    "(train_feature, train_label),\\\n",
    "(test_feature, test_label) = mnist.load_data()\n",
    "\n",
    "#將 Features 特徵值換為 10000*28*28 的 3 維矩陣\n",
    "test_feature_vector = test_feature.reshape(len(test_feature),28,28).astype('float32')\n",
    "\n",
    "#Features 特徵值標準化\n",
    "test_feature_normalize = test_feature_vector/255\n",
    "\n",
    "#從 HDF5 檔案中載入模型\n",
    "print(\"載入模型 Mnist_Rnn_model.h5\")\n",
    "model = load_model('Mnist_Rnn_model.h5')\n",
    "    \n",
    "#預測\n",
    "prediction=model.predict_classes(test_feature_normalize)\n",
    "\n",
    "#顯示圖像、預測值、真實值 \n",
    "show_images_labels_predictions(test_feature,test_label,prediction,0)"
   ]
  },
  {
   "cell_type": "code",
   "execution_count": null,
   "metadata": {},
   "outputs": [],
   "source": [
    "#預測自己的數字圖片"
   ]
  },
  {
   "cell_type": "code",
   "execution_count": 52,
   "metadata": {},
   "outputs": [
    {
     "name": "stdout",
     "output_type": "stream",
     "text": [
      "載入模型 Mnist_Rnn_model.h5\n"
     ]
    },
    {
     "data": {
      "image/png": "[encoded data removed]",
      "text/plain": [
       "<Figure size 864x1008 with 10 Axes>"
      ]
     },
     "metadata": {},
     "output_type": "display_data"
    }
   ],
   "source": [
    "import numpy as np\n",
    "np.random.seed(10)\n",
    "import matplotlib.pyplot as plt\n",
    "from keras.models import load_model\n",
    "import glob,cv2\n",
    "\n",
    "def show_images_labels_predictions(images,labels,\n",
    "                                  predictions,start_id,num=10):\n",
    "    plt.gcf().set_size_inches(12, 14)\n",
    "    if num>25: num=25 \n",
    "    for i in range(0, num):\n",
    "        ax=plt.subplot(5,5, 1+i)\n",
    "        #顯示黑白圖片\n",
    "        ax.imshow(images[start_id], cmap='binary')\n",
    "        \n",
    "        # 有 AI 預測結果資料, 才在標題顯示預測結果\n",
    "        if( len(predictions) > 0 ) :\n",
    "            title = 'ai = ' + str(predictions[i])\n",
    "            # 預測正確顯示(o), 錯誤顯示(x)\n",
    "            title += (' (o)' if predictions[i]==labels[i] else ' (x)') \n",
    "            title += '\\nlabel = ' + str(labels[i])\n",
    "        # 沒有 AI 預測結果資料, 只在標題顯示真實數值\n",
    "        else :\n",
    "            title = 'label = ' + str(labels[i])\n",
    "            \n",
    "        # X, Y 軸不顯示刻度    \n",
    "        ax.set_title(title,fontsize=12) \n",
    "        ax.set_xticks([]);ax.set_yticks([])        \n",
    "        start_id+=1 \n",
    "    plt.show()\n",
    "    \n",
    "#建立測試特徵集、測試標籤\t    \n",
    "files = glob.glob(\"imagedata\\*.jpg\" )\n",
    "test_feature=[]\n",
    "test_label=[]\n",
    "for file in files:\n",
    "    img=cv2.imread(file)\n",
    "    img=cv2.cvtColor(img,cv2.COLOR_BGR2GRAY)  #灰階    \n",
    "    _, img = cv2.threshold(img, 120, 255, cv2.THRESH_BINARY_INV) #轉為反相黑白 \n",
    "    test_feature.append(img)\n",
    "    label=file[10:11]  # \"imagedata\\1.jpg\" 第10個字元1為label\n",
    "    test_label.append(int(label))\n",
    "   \n",
    "test_feature=np.array(test_feature) # 串列轉為矩陣 \n",
    "test_label=np.array(test_label)     # 串列轉為矩陣\n",
    "\n",
    "#將 Features 特徵值換為 10000*28*28 的 3 維矩陣\n",
    "test_feature_vector = test_feature.reshape(len(test_feature),28,28).astype('float32')\n",
    "\n",
    "#Features 特徵值標準化\n",
    "test_feature_normalize = test_feature_vector/255\n",
    "\n",
    "#從 HDF5 檔案中載入模型\n",
    "print(\"載入模型 Mnist_Rnn_model.h5\")\n",
    "model = load_model('Mnist_Rnn_model.h5')\n",
    "    \n",
    "#預測\n",
    "prediction=model.predict_classes(test_feature_normalize)\n",
    "\n",
    "#顯示圖像、預測值、真實值 \n",
    "show_images_labels_predictions(test_feature,test_label,prediction,0,len(test_feature))"
   ]
  },
  {
   "cell_type": "code",
   "execution_count": null,
   "metadata": {},
   "outputs": [],
   "source": [
    "# LSTM 長短期記憶 "
   ]
  },
  {
   "cell_type": "code",
   "execution_count": 53,
   "metadata": {},
   "outputs": [],
   "source": [
    "#建立LSTM循環神經網路"
   ]
  },
  {
   "cell_type": "code",
   "execution_count": 54,
   "metadata": {},
   "outputs": [],
   "source": [
    "from keras.layers.recurrent import LSTM"
   ]
  },
  {
   "cell_type": "code",
   "execution_count": 55,
   "metadata": {},
   "outputs": [
    {
     "ename": "IndentationError",
     "evalue": "unexpected indent (<ipython-input-55-c48d4d88d6e4>, line 2)",
     "output_type": "error",
     "traceback": [
      "\u001b[1;36m  File \u001b[1;32m\"<ipython-input-55-c48d4d88d6e4>\"\u001b[1;36m, line \u001b[1;32m2\u001b[0m\n\u001b[1;33m    units = CELL_SIZE,\u001b[0m\n\u001b[1;37m    ^\u001b[0m\n\u001b[1;31mIndentationError\u001b[0m\u001b[1;31m:\u001b[0m unexpected indent\n"
     ]
    }
   ],
   "source": [
    "#model.add(LSTM(input_shape = (TIME_STEPS,INPUT_SIZE),\n",
    "#                units = CELL_SIZE,\n",
    "#                unroll = 布林值)"
   ]
  },
  {
   "cell_type": "code",
   "execution_count": 60,
   "metadata": {},
   "outputs": [
    {
     "name": "stdout",
     "output_type": "stream",
     "text": [
      "Train on 48000 samples, validate on 12000 samples\n",
      "Epoch 1/10\n",
      " - 69s - loss: 0.6684 - accuracy: 0.7791 - val_loss: 0.2345 - val_accuracy: 0.9246\n",
      "Epoch 2/10\n",
      " - 63s - loss: 0.1880 - accuracy: 0.9433 - val_loss: 0.1284 - val_accuracy: 0.9604\n",
      "Epoch 3/10\n",
      " - 64s - loss: 0.1248 - accuracy: 0.9620 - val_loss: 0.0998 - val_accuracy: 0.9706\n",
      "Epoch 4/10\n",
      " - 65s - loss: 0.0995 - accuracy: 0.9696 - val_loss: 0.0777 - val_accuracy: 0.9771\n",
      "Epoch 5/10\n",
      " - 65s - loss: 0.0720 - accuracy: 0.9781 - val_loss: 0.0790 - val_accuracy: 0.9753\n",
      "Epoch 6/10\n",
      " - 68s - loss: 0.0601 - accuracy: 0.9816 - val_loss: 0.0652 - val_accuracy: 0.9809\n",
      "Epoch 7/10\n",
      " - 66s - loss: 0.0492 - accuracy: 0.9844 - val_loss: 0.0704 - val_accuracy: 0.9792\n",
      "Epoch 8/10\n",
      " - 64s - loss: 0.0437 - accuracy: 0.9869 - val_loss: 0.0579 - val_accuracy: 0.9818\n",
      "Epoch 9/10\n",
      " - 65s - loss: 0.0386 - accuracy: 0.9878 - val_loss: 0.0605 - val_accuracy: 0.9823\n",
      "Epoch 10/10\n",
      " - 65s - loss: 0.0340 - accuracy: 0.9897 - val_loss: 0.0503 - val_accuracy: 0.9851\n",
      "10000/10000 [==============================] - 6s 635us/step\n",
      "\n",
      "準確率= 0.9828000068664551\n",
      "10000/10000 [==============================] - 6s 644us/step\n",
      "\n",
      "準確率= 0.9828000068664551\n",
      "Mnist_Lstm_model.h5 模型儲存完畢!\n",
      "模型參數儲存完畢!\n"
     ]
    },
    {
     "data": {
      "image/png": "[encoded data removed]",
      "text/plain": [
       "<Figure size 864x1008 with 10 Axes>"
      ]
     },
     "metadata": {},
     "output_type": "display_data"
    }
   ],
   "source": [
    "import numpy as np\n",
    "from keras.utils import np_utils\n",
    "np.random.seed(10)\n",
    "from keras.datasets import mnist\n",
    "import matplotlib.pyplot as plt\n",
    "from keras.models import Sequential\n",
    "from keras.layers import LSTM,Dropout,Dense\n",
    "\n",
    "def show_images_labels_predictions(images,labels,\n",
    "                                  predictions,start_id,num=10):\n",
    "    plt.gcf().set_size_inches(12, 14)\n",
    "    if num>25: num=25 \n",
    "    for i in range(0, num):\n",
    "        ax=plt.subplot(5,5, 1+i)\n",
    "        #顯示黑白圖片\n",
    "        ax.imshow(images[start_id], cmap='binary')\n",
    "        \n",
    "        # 有 AI 預測結果資料, 才在標題顯示預測結果\n",
    "        if( len(predictions) > 0 ) :\n",
    "            title = 'ai = ' + str(predictions[i])\n",
    "            # 預測正確顯示(o), 錯誤顯示(x)\n",
    "            title += (' (o)' if predictions[i]==labels[i] else ' (x)') \n",
    "            title += '\\nlabel = ' + str(labels[i])\n",
    "        # 沒有 AI 預測結果資料, 只在標題顯示真實數值\n",
    "        else :\n",
    "            title = 'label = ' + str(labels[i])\n",
    "            \n",
    "        # X, Y 軸不顯示刻度    \n",
    "        ax.set_title(title,fontsize=12) \n",
    "        ax.set_xticks([]);ax.set_yticks([])        \n",
    "        start_id+=1 \n",
    "    plt.show()\n",
    "\n",
    "#建立訓練資料和測試資料，包括訓練特徵集、訓練標籤和測試特徵集、測試標籤\t\n",
    "(train_feature, train_label),\\\n",
    "(test_feature, test_label) = mnist.load_data()  \n",
    "\n",
    "#將 Features 特徵值換為 60000*28*28 的 3 維矩陣\n",
    "train_feature_vector =train_feature.reshape(len(train_feature),28,28).astype('float32')\n",
    "test_feature_vector = test_feature.reshape(len(test_feature),28,28).astype('float32')\n",
    "\n",
    "#Features 特徵值標準化\n",
    "train_feature_normalize = train_feature_vector/255\n",
    "test_feature_normalize = test_feature_vector/255\n",
    "\n",
    "#label 轉換為 One-Hot Encoding 編碼\n",
    "train_label_onehot = np_utils.to_categorical(train_label)\n",
    "test_label_onehot = np_utils.to_categorical(test_label)\n",
    "\n",
    "# 建立簡單的線性執行的模型\n",
    "model = Sequential()\n",
    "model.add(LSTM(\n",
    "    input_shape=( 28, 28),\n",
    "    units=256,\n",
    "    unroll=True\n",
    "))\n",
    "\n",
    "# Dropout層防止過度擬合，拋棄比例:0.1\n",
    "model.add(Dropout(0.1))\n",
    " \n",
    "# 輸出層\n",
    "model.add(Dense(units=10, kernel_initializer='normal', activation='softmax'))\n",
    "    \n",
    "#定義訓練方式\n",
    "model.compile(loss='categorical_crossentropy', \n",
    "              optimizer='adam', metrics=['accuracy'])\n",
    "\n",
    "#以(train_feature_normalize,train_label_onehot)資料訓練，\n",
    "#訓練資料保留 20% 作驗證,訓練10次、每批次讀取200筆資料，顯示簡易訓練過程\n",
    "train_history =model.fit(x=train_feature_normalize,\n",
    "                         y=train_label_onehot,validation_split=0.2, \n",
    "                         epochs=10, batch_size=200,verbose=2)    \n",
    "\n",
    "#評估準確率\n",
    "scores = model.evaluate(test_feature_normalize, test_label_onehot)\n",
    "print('\\n準確率=',scores[1])\n",
    "\n",
    "#預測\n",
    "prediction=model.predict_classes(test_feature_normalize)\n",
    "\n",
    "#評估準確率\n",
    "scores = model.evaluate(test_feature_normalize, test_label_onehot)\n",
    "print('\\n準確率=',scores[1])\n",
    "    \n",
    "#將模型儲存至 HDF5檔案中\n",
    "model.save('Mnist_Lstm_model.h5')\n",
    "print(\"Mnist_Lstm_model.h5 模型儲存完畢!\")\n",
    "model.save_weights(\"Mnist_Lstm_model.weight\")\n",
    "print(\"模型參數儲存完畢!\")\n",
    " \n",
    "\n",
    "#顯示圖像、預測值、真實值 \n",
    "show_images_labels_predictions(test_feature,test_label,prediction,0)  \n",
    "\n",
    "del model \n"
   ]
  },
  {
   "cell_type": "code",
   "execution_count": null,
   "metadata": {},
   "outputs": [],
   "source": [
    "#以LSTM訓練模型檔預測自己繪製的數字圖片"
   ]
  },
  {
   "cell_type": "code",
   "execution_count": 61,
   "metadata": {},
   "outputs": [
    {
     "name": "stdout",
     "output_type": "stream",
     "text": [
      "載入模型 Mnist_Lstm_model.h5\n"
     ]
    },
    {
     "data": {
      "image/png": "[encoded data removed]",
      "text/plain": [
       "<Figure size 864x1008 with 10 Axes>"
      ]
     },
     "metadata": {},
     "output_type": "display_data"
    }
   ],
   "source": [
    "\n",
    "#建立測試特徵集、測試標籤\t    \n",
    "files = glob.glob(\"imagedata\\*.jpg\" )\n",
    "test_feature=[]\n",
    "test_label=[]\n",
    "for file in files:\n",
    "    img=cv2.imread(file)\n",
    "    img=cv2.cvtColor(img,cv2.COLOR_BGR2GRAY)  #灰階    \n",
    "    _, img = cv2.threshold(img, 120, 255, cv2.THRESH_BINARY_INV) #轉為反相黑白 \n",
    "    test_feature.append(img)\n",
    "    label=file[10:11]  # \"imagedata\\1.jpg\" 第10個字元1為label\n",
    "    test_label.append(int(label))\n",
    "   \n",
    "test_feature=np.array(test_feature) # 串列轉為矩陣 \n",
    "test_label=np.array(test_label)     # 串列轉為矩陣\n",
    "\n",
    "#將 Features 特徵值換為 10000*28*28 的 3 維矩陣\n",
    "test_feature_vector = test_feature.reshape(len(test_feature),28,28).astype('float32')\n",
    "\n",
    "#Features 特徵值標準化\n",
    "test_feature_normalize = test_feature_vector/255\n",
    "\n",
    "#從 HDF5 檔案中載入模型\n",
    "print(\"載入模型 Mnist_Lstm_model.h5\")\n",
    "model = load_model('Mnist_Lstm_model.h5')\n",
    "    \n",
    "#預測\n",
    "prediction=model.predict_classes(test_feature_normalize)\n",
    "\n",
    "#顯示圖像、預測值、真實值 \n",
    "show_images_labels_predictions(test_feature,test_label,prediction,0,len(test_feature))"
   ]
  },
  {
   "cell_type": "code",
   "execution_count": null,
   "metadata": {},
   "outputs": [],
   "source": []
  },
  {
   "cell_type": "code",
   "execution_count": null,
   "metadata": {},
   "outputs": [],
   "source": []
  }
 ],
 "metadata": {
  "kernelspec": {
   "display_name": "Python 3",
   "language": "python",
   "name": "python3"
  },
  "language_info": {
   "codemirror_mode": {
    "name": "ipython",
    "version": 3
   },
   "file_extension": ".py",
   "mimetype": "text/x-python",
   "name": "python",
   "nbconvert_exporter": "python",
   "pygments_lexer": "ipython3",
   "version": "3.7.3"
  }
 },
 "nbformat": 4,
 "nbformat_minor": 2
}
