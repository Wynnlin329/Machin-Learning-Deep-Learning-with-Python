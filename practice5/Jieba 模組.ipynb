{
 "cells": [
  {
   "cell_type": "code",
   "execution_count": 2,
   "metadata": {},
   "outputs": [],
   "source": [
    "import jieba"
   ]
  },
  {
   "cell_type": "code",
   "execution_count": null,
   "metadata": {},
   "outputs": [],
   "source": [
    "#jieba模組基本用法"
   ]
  },
  {
   "cell_type": "code",
   "execution_count": 13,
   "metadata": {},
   "outputs": [],
   "source": [
    "breakword = jieba.cut('我要喝水')"
   ]
  },
  {
   "cell_type": "code",
   "execution_count": 11,
   "metadata": {},
   "outputs": [
    {
     "name": "stdout",
     "output_type": "stream",
     "text": [
      "['我要', '喝水']\n"
     ]
    }
   ],
   "source": [
    "print(list(breakword))"
   ]
  },
  {
   "cell_type": "code",
   "execution_count": 14,
   "metadata": {},
   "outputs": [
    {
     "name": "stdout",
     "output_type": "stream",
     "text": [
      "我要|喝水\n"
     ]
    }
   ],
   "source": [
    "print('|'.join(breakword))"
   ]
  },
  {
   "cell_type": "code",
   "execution_count": 16,
   "metadata": {},
   "outputs": [
    {
     "name": "stdout",
     "output_type": "stream",
     "text": [
      "我|今天|要|到|台北|松山|機場|出差\n"
     ]
    }
   ],
   "source": [
    "setence = '我今天要到台北松山機場出差'\n",
    "breakword = jieba.cut(setence)\n",
    "print('|'.join(breakword))"
   ]
  },
  {
   "cell_type": "code",
   "execution_count": null,
   "metadata": {},
   "outputs": [],
   "source": [
    "#搜尋模式"
   ]
  },
  {
   "cell_type": "code",
   "execution_count": 18,
   "metadata": {},
   "outputs": [
    {
     "name": "stdout",
     "output_type": "stream",
     "text": [
      "精確模式:我|今天|要|到|台北|松山|機場|出差\n",
      "全文模式:我|今天|要到|台北|松山|機|場|出差\n",
      "搜尋引擎模式:我|今天|要|到|台北|松山|機場|出差\n"
     ]
    }
   ],
   "source": [
    "setence = '我今天要到台北松山機場出差'\n",
    "breakword = jieba.cut(setence,cut_all = False)#將文句以最精準的方式段詞，適合做為文件分析，為預設值\n",
    "print('精確模式:'+'|'.join(breakword))\n",
    "\n",
    "breakword = jieba.cut(setence,cut_all = True)#把句子中可以成詞的字詞都掃描出來，速度較快\n",
    "print('全文模式:'+'|'.join(breakword))\n",
    "\n",
    "breakword = jieba.cut_for_search(setence)#在精確模式下再次切分，適合用於搜尋引擎\n",
    "print('搜尋引擎模式:'+'|'.join(breakword))"
   ]
  },
  {
   "cell_type": "code",
   "execution_count": null,
   "metadata": {},
   "outputs": [],
   "source": [
    "#預設詞庫"
   ]
  },
  {
   "cell_type": "code",
   "execution_count": 19,
   "metadata": {},
   "outputs": [
    {
     "name": "stderr",
     "output_type": "stream",
     "text": [
      "Building prefix dict from E:\\Machin_learning_Deep_learning\\practice5\\dictionary\\dict.txt.big.txt ...\n",
      "Dumping model to file cache C:\\Users\\BIGDAT~1\\AppData\\Local\\Temp\\jieba.ua17eb80de2f08c2810ce3f32081c93a4.cache\n",
      "Loading model cost 1.713 seconds.\n",
      "Prefix dict has been built succesfully.\n"
     ]
    },
    {
     "name": "stdout",
     "output_type": "stream",
     "text": [
      "精確模式:我|今天|要|到|台北|松山機場|出差\n"
     ]
    }
   ],
   "source": [
    "jieba.set_dictionary('dictionary/dict.txt.big.txt')# 設定繁體中文詞庫\n",
    "setence = '我今天要到台北松山機場出差'\n",
    "breakword = jieba.cut(setence,cut_all = False)#將文句以最精準的方式段詞，適合做為文件分析，為預設值\n",
    "print('精確模式:'+'|'.join(breakword))"
   ]
  },
  {
   "cell_type": "code",
   "execution_count": null,
   "metadata": {},
   "outputs": [],
   "source": [
    "#自訂詞庫"
   ]
  },
  {
   "cell_type": "code",
   "execution_count": 20,
   "metadata": {},
   "outputs": [
    {
     "name": "stderr",
     "output_type": "stream",
     "text": [
      "Building prefix dict from E:\\Machin_learning_Deep_learning\\practice5\\dictionary\\dict.txt.big.txt ...\n",
      "Loading model from cache C:\\Users\\BIGDAT~1\\AppData\\Local\\Temp\\jieba.ua17eb80de2f08c2810ce3f32081c93a4.cache\n",
      "Loading model cost 1.331 seconds.\n",
      "Prefix dict has been built succesfully.\n"
     ]
    },
    {
     "name": "stdout",
     "output_type": "stream",
     "text": [
      "精確模式:今天|是|元旦|，|蔡|英文|總統|發表|了|元旦|公告|。\n"
     ]
    }
   ],
   "source": [
    "jieba.set_dictionary('dictionary/dict.txt.big.txt')# 設定繁體中文詞庫\n",
    "setence = '今天是元旦，蔡英文總統發表了元旦公告。'\n",
    "breakword = jieba.cut(setence,cut_all = False)#將文句以最精準的方式段詞，適合做為文件分析，為預設值\n",
    "print('精確模式:'+'|'.join(breakword))"
   ]
  },
  {
   "cell_type": "code",
   "execution_count": 21,
   "metadata": {},
   "outputs": [
    {
     "name": "stderr",
     "output_type": "stream",
     "text": [
      "Building prefix dict from E:\\Machin_learning_Deep_learning\\practice5\\dictionary\\dict.txt.big.txt ...\n",
      "Loading model from cache C:\\Users\\BIGDAT~1\\AppData\\Local\\Temp\\jieba.ua17eb80de2f08c2810ce3f32081c93a4.cache\n",
      "Loading model cost 1.401 seconds.\n",
      "Prefix dict has been built succesfully.\n"
     ]
    },
    {
     "name": "stdout",
     "output_type": "stream",
     "text": [
      "今天|是|元旦|，|總統|蔡英文|發表|了|元旦|文告|。\n"
     ]
    }
   ],
   "source": [
    "jieba.set_dictionary('dictionary/dict.txt.big.txt')\n",
    "jieba.load_userdict('dictionary/user_dict_test.txt')  #設定自訂詞庫\n",
    "\n",
    "sentence = '今天是元旦，總統蔡英文發表了元旦文告。'\n",
    "breakword = jieba.cut(sentence, cut_all=False)\n",
    "print('|'.join(breakword))   "
   ]
  },
  {
   "cell_type": "code",
   "execution_count": null,
   "metadata": {},
   "outputs": [],
   "source": [
    "#加入停用詞"
   ]
  },
  {
   "cell_type": "code",
   "execution_count": 22,
   "metadata": {},
   "outputs": [
    {
     "name": "stderr",
     "output_type": "stream",
     "text": [
      "Building prefix dict from E:\\Machin_learning_Deep_learning\\practice5\\dictionary\\dict.txt.big.txt ...\n",
      "Loading model from cache C:\\Users\\BIGDAT~1\\AppData\\Local\\Temp\\jieba.ua17eb80de2f08c2810ce3f32081c93a4.cache\n",
      "Loading model cost 1.348 seconds.\n",
      "Prefix dict has been built succesfully.\n"
     ]
    },
    {
     "name": "stdout",
     "output_type": "stream",
     "text": [
      "今天|是|元旦|總統|蔡英文|發表|了|元旦|文告\n"
     ]
    }
   ],
   "source": [
    "jieba.set_dictionary('dictionary/dict.txt.big.txt')\n",
    "jieba.load_userdict('dictionary/user_dict_test.txt')\n",
    "with open('dictionary/stopWord_test.txt', 'r', encoding='utf-8-sig') as f:  #設定停用詞\n",
    "    stops = f.read().split('\\n')   \n",
    "\n",
    "sentence = '今天是元旦，總統蔡英文發表了元旦文告。'\n",
    "breakword = jieba.cut(sentence, cut_all=False)\n",
    "words = []  #建一個空串列\n",
    "for word in breakword:  #拆解句子為字詞\n",
    "    if word not in stops:  #不是停用詞\n",
    "        words.append(word)\n",
    "print('|'.join(words)) \n"
   ]
  },
  {
   "cell_type": "code",
   "execution_count": 24,
   "metadata": {},
   "outputs": [
    {
     "data": {
      "text/plain": [
       "['今天', '是', '元旦', '，', '總統', '蔡英文', '發表', '了', '元旦', '文告']"
      ]
     },
     "execution_count": 24,
     "metadata": {},
     "output_type": "execute_result"
    }
   ],
   "source": [
    "jieba.lcut('今天是元旦，總統蔡英文發表了元旦文告')#輸出為list"
   ]
  },
  {
   "cell_type": "code",
   "execution_count": null,
   "metadata": {},
   "outputs": [],
   "source": []
  },
  {
   "cell_type": "code",
   "execution_count": null,
   "metadata": {},
   "outputs": [],
   "source": []
  },
  {
   "cell_type": "code",
   "execution_count": null,
   "metadata": {},
   "outputs": [],
   "source": []
  },
  {
   "cell_type": "code",
   "execution_count": null,
   "metadata": {},
   "outputs": [],
   "source": []
  },
  {
   "cell_type": "code",
   "execution_count": null,
   "metadata": {},
   "outputs": [],
   "source": []
  },
  {
   "cell_type": "code",
   "execution_count": null,
   "metadata": {},
   "outputs": [],
   "source": []
  },
  {
   "cell_type": "code",
   "execution_count": null,
   "metadata": {},
   "outputs": [],
   "source": []
  },
  {
   "cell_type": "code",
   "execution_count": null,
   "metadata": {},
   "outputs": [],
   "source": []
  },
  {
   "cell_type": "code",
   "execution_count": null,
   "metadata": {},
   "outputs": [],
   "source": []
  },
  {
   "cell_type": "code",
   "execution_count": null,
   "metadata": {},
   "outputs": [],
   "source": []
  },
  {
   "cell_type": "code",
   "execution_count": null,
   "metadata": {},
   "outputs": [],
   "source": []
  },
  {
   "cell_type": "code",
   "execution_count": null,
   "metadata": {},
   "outputs": [],
   "source": []
  },
  {
   "cell_type": "code",
   "execution_count": null,
   "metadata": {},
   "outputs": [],
   "source": []
  },
  {
   "cell_type": "code",
   "execution_count": null,
   "metadata": {},
   "outputs": [],
   "source": []
  },
  {
   "cell_type": "code",
   "execution_count": null,
   "metadata": {},
   "outputs": [],
   "source": []
  },
  {
   "cell_type": "code",
   "execution_count": null,
   "metadata": {},
   "outputs": [],
   "source": []
  },
  {
   "cell_type": "code",
   "execution_count": null,
   "metadata": {},
   "outputs": [],
   "source": []
  },
  {
   "cell_type": "code",
   "execution_count": null,
   "metadata": {},
   "outputs": [],
   "source": []
  },
  {
   "cell_type": "code",
   "execution_count": null,
   "metadata": {},
   "outputs": [],
   "source": []
  },
  {
   "cell_type": "code",
   "execution_count": null,
   "metadata": {},
   "outputs": [],
   "source": []
  },
  {
   "cell_type": "code",
   "execution_count": null,
   "metadata": {},
   "outputs": [],
   "source": []
  }
 ],
 "metadata": {
  "kernelspec": {
   "display_name": "Python 3",
   "language": "python",
   "name": "python3"
  },
  "language_info": {
   "codemirror_mode": {
    "name": "ipython",
    "version": 3
   },
   "file_extension": ".py",
   "mimetype": "text/x-python",
   "name": "python",
   "nbconvert_exporter": "python",
   "pygments_lexer": "ipython3",
   "version": "3.7.3"
  }
 },
 "nbformat": 4,
 "nbformat_minor": 2
}
