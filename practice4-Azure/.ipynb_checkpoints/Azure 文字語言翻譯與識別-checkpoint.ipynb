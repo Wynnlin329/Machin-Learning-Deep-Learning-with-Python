{
 "cells": [
  {
   "cell_type": "code",
   "execution_count": 2,
   "metadata": {},
   "outputs": [],
   "source": [
    "import requests"
   ]
  },
  {
   "cell_type": "code",
   "execution_count": 5,
   "metadata": {},
   "outputs": [
    {
     "name": "stdout",
     "output_type": "stream",
     "text": [
      "輸入文字 (直接按Enter就結束程式) :\n"
     ]
    }
   ],
   "source": [
    "subscription_key = 'bb6c40d2c7584303903dd25de3190874'\n",
    "trans_base_url = \"https://api.cognitive.microsofttranslator.com/\"\n",
    "trans_url = trans_base_url + 'detect?api-version=3.0'#使用翻譯文字功能\n",
    "headers = {'Ocp-Apim-Subscription-Key':subscription_key}\n",
    "while True:#以無限迴圈偵測語言類別\n",
    "    textinput = input('輸入文字 (直接按Enter就結束程式) :')\n",
    "    if textinput != '':\n",
    "        data = [{'text':textinput}]\n",
    "        response = requests.post(trans_url, headers = headers , json = data)\n",
    "        result = response.json()\n",
    "        print(result)\n",
    "    else:\n",
    "        break\n",
    "    "
   ]
  },
  {
   "cell_type": "code",
   "execution_count": 7,
   "metadata": {},
   "outputs": [
    {
     "name": "stdout",
     "output_type": "stream",
     "text": [
      "輸入文句 (直接按 Enter 鍵就結束程式)：翻譯結果\n",
      "翻譯結果：Translation results\n",
      "輸入文句 (直接按 Enter 鍵就結束程式)：\n"
     ]
    }
   ],
   "source": [
    "import  requests\n",
    "\n",
    "subscription_key = \"bb6c40d2c7584303903dd25de3190874\"\n",
    "trans_base_url = \"https://api.cognitive.microsofttranslator.com/\"\n",
    "trans_url = trans_base_url + 'translate?api-version=3.0'\n",
    "headers = {'Ocp-Apim-Subscription-Key': subscription_key}\n",
    "params = '&to=en'  #翻譯為英文\n",
    "while True:\n",
    "    textinput = input('輸入文句 (直接按 Enter 鍵就結束程式)：')\n",
    "    if textinput != '':\n",
    "        data    = [{'text' : textinput}]\n",
    "        response = requests.post(trans_url, headers=headers, params=params, json=data)\n",
    "        result = response.json()\n",
    "        print('翻譯結果：' + result[0]['translations'][0]['text'])\n",
    "        #print(result)\n",
    "    else:\n",
    "        break"
   ]
  },
  {
   "cell_type": "code",
   "execution_count": null,
   "metadata": {},
   "outputs": [],
   "source": []
  }
 ],
 "metadata": {
  "kernelspec": {
   "display_name": "Python 3",
   "language": "python",
   "name": "python3"
  },
  "language_info": {
   "codemirror_mode": {
    "name": "ipython",
    "version": 3
   },
   "file_extension": ".py",
   "mimetype": "text/x-python",
   "name": "python",
   "nbconvert_exporter": "python",
   "pygments_lexer": "ipython3",
   "version": "3.7.3"
  }
 },
 "nbformat": 4,
 "nbformat_minor": 2
}
