{
 "cells": [
  {
   "cell_type": "code",
   "execution_count": 35,
   "metadata": {},
   "outputs": [],
   "source": [
    "from keras.datasets import mnist\n",
    "from keras.utils import np_utils\n",
    "from keras.models import Sequential\n",
    "from keras.layers import Conv2D,MaxPooling2D,Dropout,Flatten,Dense\n",
    "import matplotlib.pyplot as plt"
   ]
  },
  {
   "cell_type": "code",
   "execution_count": 29,
   "metadata": {},
   "outputs": [],
   "source": [
    "def show_images_labels_predictions(images,labels,predictions,start_id,num=10):#查看多筆訓練資料(數字圖片,真實值,預測值,起始資料,顯示圖片個數)\n",
    "    plt.gcf().set_size_inches(12,14)\n",
    "    if num>25: num=25\n",
    "    for i in range(num):\n",
    "        ax = plt.subplot(5,5, i+1)#顯示黑白圖片\n",
    "        ax.imshow(images[start_id], cmap = \"binary\")\n",
    "        \n",
    "        #有 AI預測結果資料,才在標題顯示預測結果\n",
    "        if( len(predictions)>0):\n",
    "            title = 'ai = ' +str(predictions[i])\n",
    "            #預測正確顯示(O) 錯誤顯示(X)\n",
    "            title += (' (O)' if predictions[i] == labels[i] else ' (X)')\n",
    "            title += '\\nlabel = ' + str(labels[i])\n",
    "        #沒有AI預測結果資料，只在標題顯示真實數值\n",
    "        else:\n",
    "            title = 'label = ' +str(labels[i])\n",
    "            \n",
    "        #X,Y 軸不顯示刻度\n",
    "        ax.set_title(title,fontsize=12)\n",
    "        ax.set_xticks([]);ax.set_yticks([])\n",
    "        start_id += 1\n",
    "    plt.show"
   ]
  },
  {
   "cell_type": "code",
   "execution_count": null,
   "metadata": {},
   "outputs": [],
   "source": [
    "#資料預處理"
   ]
  },
  {
   "cell_type": "code",
   "execution_count": null,
   "metadata": {},
   "outputs": [],
   "source": [
    "# 1.載入資料"
   ]
  },
  {
   "cell_type": "code",
   "execution_count": 3,
   "metadata": {},
   "outputs": [],
   "source": [
    "(train_feature ,train_label),(test_feature , test_label) = mnist.load_data()"
   ]
  },
  {
   "cell_type": "code",
   "execution_count": null,
   "metadata": {},
   "outputs": [],
   "source": [
    "# Feature 特徵值轉換"
   ]
  },
  {
   "cell_type": "code",
   "execution_count": 4,
   "metadata": {},
   "outputs": [],
   "source": [
    "train_feature_vector =  train_feature.reshape(len(train_feature),28,28,1).astype('float32')\n",
    "test_feature_vector = test_feature.reshape(len(test_feature),28,28,1).astype('float32')"
   ]
  },
  {
   "cell_type": "code",
   "execution_count": null,
   "metadata": {},
   "outputs": [],
   "source": [
    "# Feature 特徵值標準化"
   ]
  },
  {
   "cell_type": "code",
   "execution_count": 5,
   "metadata": {},
   "outputs": [],
   "source": [
    "train_feature_normalize = train_feature_vector/255\n",
    "test_feature_normalize = test_feature_vector/255"
   ]
  },
  {
   "cell_type": "code",
   "execution_count": null,
   "metadata": {},
   "outputs": [],
   "source": [
    "# 轉換 one-hot-encoding"
   ]
  },
  {
   "cell_type": "code",
   "execution_count": 8,
   "metadata": {},
   "outputs": [],
   "source": [
    "train_label_onehot = np_utils.to_categorical(train_label)\n",
    "test_label_onehot = np_utils.to_categorical(test_label)"
   ]
  },
  {
   "cell_type": "code",
   "execution_count": null,
   "metadata": {},
   "outputs": [],
   "source": [
    "# 建立 Sequential模型"
   ]
  },
  {
   "cell_type": "code",
   "execution_count": 11,
   "metadata": {},
   "outputs": [],
   "source": [
    "model = Sequential()"
   ]
  },
  {
   "cell_type": "code",
   "execution_count": null,
   "metadata": {},
   "outputs": [],
   "source": [
    "# 建立卷積層 1 : 產生10張28*28的卷積運算圖片"
   ]
  },
  {
   "cell_type": "code",
   "execution_count": 13,
   "metadata": {},
   "outputs": [],
   "source": [
    "model.add(Conv2D(filters = 10,             #設定10個濾鏡\n",
    "                 kernel_size = (3,3),      #濾鏡大小3*3\n",
    "                 padding = 'same',         #設定與原始大小相同的眷積運算圖片\n",
    "                 input_shape = (28,28,1),  #原始圖片大小28*28\n",
    "                 activation = 'relu'))     #激勵函式relu:將小於0的資訊設定為0"
   ]
  },
  {
   "cell_type": "code",
   "execution_count": null,
   "metadata": {},
   "outputs": [],
   "source": [
    "# 建立池化層 1 : 產生10張14*14的卷積運算圖片"
   ]
  },
  {
   "cell_type": "code",
   "execution_count": 14,
   "metadata": {},
   "outputs": [
    {
     "name": "stdout",
     "output_type": "stream",
     "text": [
      "WARNING:tensorflow:From E:\\Anaconda3\\lib\\site-packages\\keras\\backend\\tensorflow_backend.py:4070: The name tf.nn.max_pool is deprecated. Please use tf.nn.max_pool2d instead.\n",
      "\n"
     ]
    }
   ],
   "source": [
    "model.add(MaxPooling2D(pool_size = (2,2)))"
   ]
  },
  {
   "cell_type": "code",
   "execution_count": null,
   "metadata": {},
   "outputs": [],
   "source": [
    "# 建立卷積層 2 : 產生20張14*14的卷積運算圖片"
   ]
  },
  {
   "cell_type": "code",
   "execution_count": 15,
   "metadata": {},
   "outputs": [],
   "source": [
    "model.add(Conv2D(filters = 20,             #設定20個濾鏡\n",
    "                 kernel_size = (3,3),      #濾鏡大小3*3\n",
    "                 padding = 'same',         #設定與原始大小相同的眷積運算\n",
    "                 activation = 'relu'))     #激勵函式relu:將小於0的資訊設定為0"
   ]
  },
  {
   "cell_type": "code",
   "execution_count": null,
   "metadata": {},
   "outputs": [],
   "source": [
    "# 建立池化層 2 :產生20張7*7的卷積運算圖片"
   ]
  },
  {
   "cell_type": "code",
   "execution_count": 16,
   "metadata": {},
   "outputs": [],
   "source": [
    "model.add(MaxPooling2D(pool_size = (2,2)))"
   ]
  },
  {
   "cell_type": "code",
   "execution_count": null,
   "metadata": {},
   "outputs": [],
   "source": [
    "#建立拋棄層 : 防止overfitting 拋棄比例20%"
   ]
  },
  {
   "cell_type": "code",
   "execution_count": 17,
   "metadata": {},
   "outputs": [],
   "source": [
    "model.add(Dropout(0.2))"
   ]
  },
  {
   "cell_type": "code",
   "execution_count": 19,
   "metadata": {},
   "outputs": [],
   "source": [
    "#建立平坦層 : 將池化2的圖轉為 20*7*7=980的一維向量(為神經元數目)"
   ]
  },
  {
   "cell_type": "code",
   "execution_count": 21,
   "metadata": {},
   "outputs": [],
   "source": [
    "model.add(Flatten())"
   ]
  },
  {
   "cell_type": "code",
   "execution_count": null,
   "metadata": {},
   "outputs": [],
   "source": [
    "#建立隱藏層 : 建立256個神經元數目隱藏層"
   ]
  },
  {
   "cell_type": "code",
   "execution_count": 22,
   "metadata": {},
   "outputs": [],
   "source": [
    "model.add(Dense(units = 256 ,activation = 'relu'))"
   ]
  },
  {
   "cell_type": "code",
   "execution_count": 23,
   "metadata": {},
   "outputs": [],
   "source": [
    "#建立輸出層  : 建立10層輸出，激勵函式為softmax"
   ]
  },
  {
   "cell_type": "code",
   "execution_count": 24,
   "metadata": {},
   "outputs": [],
   "source": [
    "model.add(Dense(units = 10 ,activation = 'softmax'))"
   ]
  },
  {
   "cell_type": "code",
   "execution_count": null,
   "metadata": {},
   "outputs": [],
   "source": [
    "#訓練模型 "
   ]
  },
  {
   "cell_type": "code",
   "execution_count": null,
   "metadata": {},
   "outputs": [],
   "source": [
    "#設定訓練方法 : 以compile方法定義loss損失函式 optimizer與metrics"
   ]
  },
  {
   "cell_type": "code",
   "execution_count": 26,
   "metadata": {},
   "outputs": [],
   "source": [
    "model.compile(loss = 'categorical_crossentropy',optimizer='adam',metrics=['accuracy'])"
   ]
  },
  {
   "cell_type": "code",
   "execution_count": null,
   "metadata": {},
   "outputs": [],
   "source": [
    "#進行訓練 : 用fit方法進行訓練，訓練資料保留20%做驗證，因此訓練資料有0.8*60000=48000筆，驗證資料有0.2*60000=12000筆，訓練10次，每次讀200"
   ]
  },
  {
   "cell_type": "code",
   "execution_count": 27,
   "metadata": {},
   "outputs": [
    {
     "name": "stdout",
     "output_type": "stream",
     "text": [
      "WARNING:tensorflow:From E:\\Anaconda3\\lib\\site-packages\\keras\\backend\\tensorflow_backend.py:422: The name tf.global_variables is deprecated. Please use tf.compat.v1.global_variables instead.\n",
      "\n",
      "Train on 48000 samples, validate on 12000 samples\n",
      "Epoch 1/10\n",
      " - 44s - loss: 0.3619 - accuracy: 0.8931 - val_loss: 0.1031 - val_accuracy: 0.9688\n",
      "Epoch 2/10\n",
      " - 42s - loss: 0.0906 - accuracy: 0.9722 - val_loss: 0.0605 - val_accuracy: 0.9822\n",
      "Epoch 3/10\n",
      " - 42s - loss: 0.0623 - accuracy: 0.9801 - val_loss: 0.0479 - val_accuracy: 0.9857\n",
      "Epoch 4/10\n",
      " - 42s - loss: 0.0470 - accuracy: 0.9850 - val_loss: 0.0432 - val_accuracy: 0.9872\n",
      "Epoch 5/10\n",
      " - 42s - loss: 0.0393 - accuracy: 0.9871 - val_loss: 0.0447 - val_accuracy: 0.9870\n",
      "Epoch 6/10\n",
      " - 42s - loss: 0.0329 - accuracy: 0.9896 - val_loss: 0.0355 - val_accuracy: 0.9896\n",
      "Epoch 7/10\n",
      " - 42s - loss: 0.0293 - accuracy: 0.9904 - val_loss: 0.0406 - val_accuracy: 0.9878\n",
      "Epoch 8/10\n",
      " - 42s - loss: 0.0263 - accuracy: 0.9916 - val_loss: 0.0313 - val_accuracy: 0.9907\n",
      "Epoch 9/10\n",
      " - 42s - loss: 0.0238 - accuracy: 0.9918 - val_loss: 0.0376 - val_accuracy: 0.9897\n",
      "Epoch 10/10\n",
      " - 42s - loss: 0.0197 - accuracy: 0.9934 - val_loss: 0.0342 - val_accuracy: 0.9902\n"
     ]
    }
   ],
   "source": [
    "train_history = model.fit(x = train_feature_normalize,\n",
    "                          y = train_label_onehot,\n",
    "                          validation_split = 0.2, \n",
    "                          epochs = 10,\n",
    "                          batch_size = 200,\n",
    "                          verbose = 2)"
   ]
  },
  {
   "cell_type": "code",
   "execution_count": null,
   "metadata": {},
   "outputs": [],
   "source": [
    "#評估準確率 : evaluate 可評估模型的損失函式誤差值跟準確率，第0個元素為誤差值，第1個為準確率"
   ]
  },
  {
   "cell_type": "code",
   "execution_count": 28,
   "metadata": {},
   "outputs": [
    {
     "name": "stdout",
     "output_type": "stream",
     "text": [
      "10000/10000 [==============================] - 3s 327us/step\n",
      "\n",
      "準確率 =  0.9923999905586243\n"
     ]
    }
   ],
   "source": [
    "scores = model.evaluate(test_feature_normalize, test_label_onehot)\n",
    "print('\\n準確率 = ',scores[1])"
   ]
  },
  {
   "cell_type": "code",
   "execution_count": null,
   "metadata": {},
   "outputs": [],
   "source": [
    "#進行預測 :以predict_classes 進行預測"
   ]
  },
  {
   "cell_type": "code",
   "execution_count": 31,
   "metadata": {},
   "outputs": [],
   "source": [
    "prediction = model.predict_classes(test_feature_normalize)"
   ]
  },
  {
   "cell_type": "code",
   "execution_count": null,
   "metadata": {},
   "outputs": [],
   "source": [
    "#顯示訓練好的模型 對Mnist對資料集前10筆預測的結果"
   ]
  },
  {
   "cell_type": "code",
   "execution_count": 36,
   "metadata": {},
   "outputs": [
    {
     "data": {
      "image/png": "[encoded data removed]",
      "text/plain": [
       "<Figure size 864x1008 with 10 Axes>"
      ]
     },
     "metadata": {},
     "output_type": "display_data"
    }
   ],
   "source": [
    "show_images_labels_predictions(test_feature,test_label,prediction,0)"
   ]
  },
  {
   "cell_type": "code",
   "execution_count": null,
   "metadata": {},
   "outputs": [],
   "source": [
    "#儲存模型"
   ]
  },
  {
   "cell_type": "code",
   "execution_count": 37,
   "metadata": {},
   "outputs": [
    {
     "name": "stdout",
     "output_type": "stream",
     "text": [
      "載入模型失敗，開始訓練一個新模型!\n",
      "Train on 48000 samples, validate on 12000 samples\n",
      "Epoch 1/10\n",
      " - 36s - loss: 0.3285 - accuracy: 0.9028 - val_loss: 0.0857 - val_accuracy: 0.9737\n",
      "Epoch 2/10\n",
      " - 36s - loss: 0.0844 - accuracy: 0.9739 - val_loss: 0.0565 - val_accuracy: 0.9822\n",
      "Epoch 3/10\n",
      " - 36s - loss: 0.0617 - accuracy: 0.9807 - val_loss: 0.0448 - val_accuracy: 0.9865\n",
      "Epoch 4/10\n",
      " - 35s - loss: 0.0494 - accuracy: 0.9842 - val_loss: 0.0441 - val_accuracy: 0.9857\n",
      "Epoch 5/10\n",
      " - 35s - loss: 0.0404 - accuracy: 0.9870 - val_loss: 0.0374 - val_accuracy: 0.9887\n",
      "Epoch 6/10\n",
      " - 35s - loss: 0.0354 - accuracy: 0.9888 - val_loss: 0.0391 - val_accuracy: 0.9882\n",
      "Epoch 7/10\n",
      " - 35s - loss: 0.0294 - accuracy: 0.9901 - val_loss: 0.0409 - val_accuracy: 0.9887\n",
      "Epoch 8/10\n",
      " - 36s - loss: 0.0268 - accuracy: 0.9914 - val_loss: 0.0333 - val_accuracy: 0.9902\n",
      "Epoch 9/10\n",
      " - 36s - loss: 0.0228 - accuracy: 0.9926 - val_loss: 0.0327 - val_accuracy: 0.9907\n",
      "Epoch 10/10\n",
      " - 36s - loss: 0.0201 - accuracy: 0.9933 - val_loss: 0.0344 - val_accuracy: 0.9901\n",
      "10000/10000 [==============================] - 3s 289us/step\n",
      "\n",
      "準確率= 0.9904999732971191\n",
      "\n",
      "Mnist_cnn_model.h5 模型儲存完畢!\n",
      "Mnist_cnn_model.weight 模型參數儲存完畢!\n"
     ]
    }
   ],
   "source": [
    "import numpy as np\n",
    "from keras.utils import np_utils\n",
    "np.random.seed(10)\n",
    "from keras.datasets import mnist\n",
    "from keras.models import Sequential\n",
    "from keras.layers import Conv2D,MaxPooling2D,Dropout,Flatten,Dense\n",
    "\n",
    "#建立訓練資料和測試資料，包括訓練特徵集、訓練標籤和測試特徵集、測試標籤\t\n",
    "(train_feature, train_label),\\\n",
    "(test_feature, test_label) = mnist.load_data()  \n",
    "\n",
    "#將 Features 特徵值換為 60000*28*28*1 的 4 維矩陣\n",
    "train_feature_vector =train_feature.reshape(len(train_feature), 28,28,1).astype('float32')\n",
    "test_feature_vector = test_feature.reshape(len( test_feature), 28,28,1).astype('float32')\n",
    "\n",
    "#Features 特徵值標準化\n",
    "train_feature_normalize = train_feature_vector/255\n",
    "test_feature_normalize = test_feature_vector/255\n",
    "\n",
    "#label 轉換為 One-Hot Encoding 編碼\n",
    "train_label_onehot = np_utils.to_categorical(train_label)\n",
    "test_label_onehot = np_utils.to_categorical(test_label)\n",
    "\n",
    "#建立模型\n",
    "model = Sequential()\n",
    "#建立卷積層1\n",
    "model.add(Conv2D(filters=10, \n",
    "                 kernel_size=(5,5),\n",
    "                 padding='same',\n",
    "                 input_shape=(28,28,1), \n",
    "                 activation='relu'))\n",
    "\n",
    "#建立池化層1\n",
    "model.add(MaxPooling2D(pool_size=(2, 2))) #(10,14,14)\n",
    "\n",
    "#建立卷積層2\n",
    "model.add(Conv2D(filters=20, \n",
    "                 kernel_size=(5,5),  \n",
    "                 padding='same',\n",
    "                 activation='relu'))\n",
    "\n",
    "#建立池化層2\n",
    "model.add(MaxPooling2D(pool_size=(2, 2))) #(20,7,7)\n",
    "\n",
    "# Dropout層防止過度擬合，斷開比例:0.2\n",
    "model.add(Dropout(0.2))\n",
    "\n",
    "#建立平坦層：20*7*7=980 個神經元\n",
    "model.add(Flatten()) \n",
    "\n",
    "#建立隱藏層\n",
    "model.add(Dense(units=256, activation='relu'))\n",
    "\n",
    "#建立輸出層\n",
    "model.add(Dense(units=10,activation='softmax'))\n",
    "\n",
    "# 這些訓練會累積，準確會愈來愈高\n",
    "try:\n",
    "    model.load_weights(\"Mnist_cnn_model.weight\")\n",
    "    print(\"載入模型參數成功，繼續訓練模型!\")\n",
    "except :    \n",
    "    print(\"載入模型失敗，開始訓練一個新模型!\")\n",
    "\n",
    "#定義訓練方式\n",
    "model.compile(loss='categorical_crossentropy', \n",
    "              optimizer='adam', metrics=['accuracy'])\n",
    "\n",
    "#以(train_feature_normalize,train_label_onehot)資料訓練，\n",
    "#訓練資料保留 20% 作驗證,訓練10次、每批次讀取200筆資料，顯示簡易訓練過程\n",
    "train_history =model.fit(x=train_feature_normalize,\n",
    "                         y=train_label_onehot,validation_split=0.2, \n",
    "                         epochs=10, batch_size=200,verbose=2)\n",
    "#評估準確率\n",
    "scores = model.evaluate(test_feature_normalize, test_label_onehot)\n",
    "print('\\n準確率=',scores[1])\n",
    "    \n",
    "# 儲存模型\n",
    "model.save('Mnist_cnn_model.h5')\n",
    "print(\"\\nMnist_cnn_model.h5 模型儲存完畢!\")\n",
    "model.save_weights(\"Mnist_cnn_model.weight\")\n",
    "print(\"Mnist_cnn_model.weight 模型參數儲存完畢!\")\n",
    "\n",
    "del model       \n"
   ]
  },
  {
   "cell_type": "code",
   "execution_count": null,
   "metadata": {},
   "outputs": [],
   "source": [
    "#載入模型"
   ]
  },
  {
   "cell_type": "code",
   "execution_count": 38,
   "metadata": {},
   "outputs": [
    {
     "name": "stdout",
     "output_type": "stream",
     "text": [
      "載入模型 Mnist_cnn_model.h5\n"
     ]
    },
    {
     "data": {
      "image/png": "[encoded data removed]",
      "text/plain": [
       "<Figure size 864x1008 with 10 Axes>"
      ]
     },
     "metadata": {},
     "output_type": "display_data"
    }
   ],
   "source": [
    "import numpy as np\n",
    "np.random.seed(10)\n",
    "from keras.datasets import mnist\n",
    "import matplotlib.pyplot as plt\n",
    "from keras.models import load_model\n",
    "\n",
    "def show_images_labels_predictions(images,labels,\n",
    "                                  predictions,start_id,num=10):\n",
    "    plt.gcf().set_size_inches(12, 14)\n",
    "    if num>25: num=25 \n",
    "    for i in range(0, num):\n",
    "        ax=plt.subplot(5,5, 1+i)\n",
    "        #顯示黑白圖片\n",
    "        ax.imshow(images[start_id], cmap='binary')\n",
    "        \n",
    "        # 有 AI 預測結果資料, 才在標題顯示預測結果\n",
    "        if( len(predictions) > 0 ) :\n",
    "            title = 'ai = ' + str(predictions[i])\n",
    "            # 預測正確顯示(o), 錯誤顯示(x)\n",
    "            title += (' (o)' if predictions[i]==labels[i] else ' (x)') \n",
    "            title += '\\nlabel = ' + str(labels[i])\n",
    "        # 沒有 AI 預測結果資料, 只在標題顯示真實數值\n",
    "        else :\n",
    "            title = 'label = ' + str(labels[i])\n",
    "            \n",
    "        # X, Y 軸不顯示刻度    \n",
    "        ax.set_title(title,fontsize=12) \n",
    "        ax.set_xticks([]);ax.set_yticks([])        \n",
    "        start_id+=1 \n",
    "    plt.show()\n",
    "\n",
    "#建立訓練資料和測試資料，包括訓練特徵集、訓練標籤和測試特徵集、測試標籤\t\n",
    "(train_feature, train_label),\\\n",
    "(test_feature, test_label) = mnist.load_data()\n",
    "\n",
    "#將 Features 特徵值換為 10000*28*28*1 的 4 維矩陣\n",
    "test_feature_vector = test_feature.reshape(len(test_feature),28,28,1).astype('float32')\n",
    "\n",
    "#Features 特徵值標準化\n",
    "test_feature_normalize = test_feature_vector/255\n",
    "\n",
    "#從 HDF5 檔案中載入模型\n",
    "print(\"載入模型 Mnist_cnn_model.h5\")\n",
    "model = load_model('Mnist_cnn_model.h5')\n",
    "    \n",
    "#預測\n",
    "prediction=model.predict_classes(test_feature_normalize)\n",
    "\n",
    "#顯示圖像、預測值、真實值 \n",
    "show_images_labels_predictions(test_feature,test_label,prediction,0)"
   ]
  },
  {
   "cell_type": "code",
   "execution_count": null,
   "metadata": {},
   "outputs": [],
   "source": [
    "#預測自己的數字"
   ]
  },
  {
   "cell_type": "code",
   "execution_count": 39,
   "metadata": {},
   "outputs": [
    {
     "name": "stdout",
     "output_type": "stream",
     "text": [
      "載入模型 Mnist_cnn_model.h5\n"
     ]
    },
    {
     "data": {
      "image/png": "[encoded data removed]",
      "text/plain": [
       "<Figure size 864x1008 with 10 Axes>"
      ]
     },
     "metadata": {},
     "output_type": "display_data"
    }
   ],
   "source": [
    "import numpy as np\n",
    "np.random.seed(10)\n",
    "import matplotlib.pyplot as plt\n",
    "from keras.models import load_model\n",
    "import glob,cv2\n",
    "\n",
    "def show_images_labels_predictions(images,labels,\n",
    "                                  predictions,start_id,num=10):\n",
    "    plt.gcf().set_size_inches(12, 14)\n",
    "    if num>25: num=25 \n",
    "    for i in range(0, num):\n",
    "        ax=plt.subplot(5,5, 1+i)\n",
    "        #顯示黑白圖片\n",
    "        ax.imshow(images[start_id], cmap='binary')\n",
    "        \n",
    "        # 有 AI 預測結果資料, 才在標題顯示預測結果\n",
    "        if( len(predictions) > 0 ) :\n",
    "            title = 'ai = ' + str(predictions[i])\n",
    "            # 預測正確顯示(o), 錯誤顯示(x)\n",
    "            title += (' (o)' if predictions[i]==labels[i] else ' (x)') \n",
    "            title += '\\nlabel = ' + str(labels[i])\n",
    "        # 沒有 AI 預測結果資料, 只在標題顯示真實數值\n",
    "        else :\n",
    "            title = 'label = ' + str(labels[i])\n",
    "            \n",
    "        # X, Y 軸不顯示刻度    \n",
    "        ax.set_title(title,fontsize=12) \n",
    "        ax.set_xticks([]);ax.set_yticks([])        \n",
    "        start_id+=1 \n",
    "    plt.show()\n",
    "    \n",
    "#建立測試特徵集、測試標籤\t    \n",
    "files = glob.glob(\"imagedata\\*.jpg\" )\n",
    "test_feature=[]\n",
    "test_label=[]\n",
    "for file in files:\n",
    "    img=cv2.imread(file)\n",
    "    img=cv2.cvtColor(img,cv2.COLOR_BGR2GRAY)  #灰階    \n",
    "    _, img = cv2.threshold(img, 120, 255, cv2.THRESH_BINARY_INV) #轉為反相黑白 \n",
    "    test_feature.append(img)\n",
    "    label=file[10:11]  # \"imagedata\\1.jpg\" 第10個字元1為label\n",
    "    test_label.append(int(label))\n",
    "   \n",
    "test_feature=np.array(test_feature) # 串列轉為矩陣 \n",
    "test_label=np.array(test_label)     # 串列轉為矩陣\n",
    "\n",
    "#將 Features 特徵值換為 10000*28*28*1 的 4 維矩陣\n",
    "test_feature_vector = test_feature.reshape(len(test_feature),28,28,1).astype('float32')\n",
    "\n",
    "#Features 特徵值標準化\n",
    "test_feature_normalize = test_feature_vector/255\n",
    "\n",
    "#從 HDF5 檔案中載入模型\n",
    "print(\"載入模型 Mnist_cnn_model.h5\")\n",
    "model = load_model('Mnist_cnn_model.h5')\n",
    "    \n",
    "#預測\n",
    "prediction=model.predict_classes(test_feature_normalize)\n",
    "\n",
    "#顯示圖像、預測值、真實值 \n",
    "show_images_labels_predictions(test_feature,test_label,prediction,0,len(test_feature))"
   ]
  },
  {
   "cell_type": "code",
   "execution_count": null,
   "metadata": {},
   "outputs": [],
   "source": []
  },
  {
   "cell_type": "code",
   "execution_count": null,
   "metadata": {},
   "outputs": [],
   "source": []
  },
  {
   "cell_type": "code",
   "execution_count": null,
   "metadata": {},
   "outputs": [],
   "source": []
  },
  {
   "cell_type": "code",
   "execution_count": null,
   "metadata": {},
   "outputs": [],
   "source": []
  },
  {
   "cell_type": "code",
   "execution_count": null,
   "metadata": {},
   "outputs": [],
   "source": []
  },
  {
   "cell_type": "code",
   "execution_count": null,
   "metadata": {},
   "outputs": [],
   "source": []
  },
  {
   "cell_type": "code",
   "execution_count": null,
   "metadata": {},
   "outputs": [],
   "source": []
  },
  {
   "cell_type": "code",
   "execution_count": null,
   "metadata": {},
   "outputs": [],
   "source": []
  },
  {
   "cell_type": "code",
   "execution_count": null,
   "metadata": {},
   "outputs": [],
   "source": []
  }
 ],
 "metadata": {
  "kernelspec": {
   "display_name": "Python 3",
   "language": "python",
   "name": "python3"
  },
  "language_info": {
   "codemirror_mode": {
    "name": "ipython",
    "version": 3
   },
   "file_extension": ".py",
   "mimetype": "text/x-python",
   "name": "python",
   "nbconvert_exporter": "python",
   "pygments_lexer": "ipython3",
   "version": "3.7.3"
  }
 },
 "nbformat": 4,
 "nbformat_minor": 2
}
