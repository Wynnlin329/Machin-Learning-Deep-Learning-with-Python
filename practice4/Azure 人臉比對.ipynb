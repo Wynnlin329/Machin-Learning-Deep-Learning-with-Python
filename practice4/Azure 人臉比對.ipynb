{
 "cells": [
  {
   "cell_type": "code",
   "execution_count": 3,
   "metadata": {},
   "outputs": [
    {
     "name": "stdout",
     "output_type": "stream",
     "text": [
      "{'isIdentical': True, 'confidence': 0.74663}\n",
      "傳入相同人員的不同照片：兩張相片為同一人！\n",
      "{'isIdentical': False, 'confidence': 0.34208}\n",
      "\n",
      "傳入不同人員的照片：兩張相片為不同人！\n"
     ]
    }
   ],
   "source": [
    "def getFaceId(image_url):  #取得臉部Id\n",
    "    face_url = face_base_url + 'detect'\n",
    "    params = {\n",
    "        'returnFaceId': 'true',\n",
    "        'returnFaceLandmarks': 'false',\n",
    "        'returnFaceAttributes': 'age',\n",
    "    }\n",
    "    data    = {'url': image_url}\n",
    "    response = requests.post(face_url, headers=headers, params=params, json=data)\n",
    "    faces = response.json()\n",
    "    return faces[0]['faceId']#FaceID在偵測功能傳回值的 FaceID欄位\n",
    "\n",
    "def verifyFace(faceid1, faceid2):  #比對臉部是否相同\n",
    "    face_url = face_base_url + 'verify'# verify為比對功能名稱\n",
    "    data    = {\n",
    "        'faceId1': faceid1,\n",
    "        'faceId2': faceid2,\n",
    "    }\n",
    "    response = requests.post(face_url, headers=headers, json=data)\n",
    "    result = response.json()\n",
    "    print(result)                     #比對的傳回值示例\n",
    "    if result['isIdentical']== True:  #臉部相同\n",
    "        return '兩張相片為同一人！'\n",
    "    else:  #臉部不同\n",
    "        return '兩張相片為不同人！'  \n",
    "\n",
    "import requests\n",
    "\n",
    "subscription_key = \"48af3bcc68124b4eb9faac660782066c\"\n",
    "face_base_url = \"https://southeastasia.api.cognitive.microsoft.com/face/v1.0/\"\n",
    "headers = {'Ocp-Apim-Subscription-Key': subscription_key}\n",
    "\n",
    "jengid1 = getFaceId(\"https://i.imgur.com/JKKvMiP.jpg\")  #jeng照片一\n",
    "jengid2 = getFaceId(\"https://i.imgur.com/dtusSZ1.jpg\")  #jeng照片二\n",
    "davidid1 = getFaceId(\"https://i.imgur.com/o4boWWG.jpg\")  #david照片\n",
    "print('傳入相同人員的不同照片：' + verifyFace(jengid1, jengid2))\n",
    "print('\\n傳入不同人員的照片：' + verifyFace(jengid1, davidid1))\n"
   ]
  },
  {
   "cell_type": "code",
   "execution_count": null,
   "metadata": {},
   "outputs": [],
   "source": []
  }
 ],
 "metadata": {
  "kernelspec": {
   "display_name": "Python 3",
   "language": "python",
   "name": "python3"
  },
  "language_info": {
   "codemirror_mode": {
    "name": "ipython",
    "version": 3
   },
   "file_extension": ".py",
   "mimetype": "text/x-python",
   "name": "python",
   "nbconvert_exporter": "python",
   "pygments_lexer": "ipython3",
   "version": "3.7.3"
  }
 },
 "nbformat": 4,
 "nbformat_minor": 2
}
