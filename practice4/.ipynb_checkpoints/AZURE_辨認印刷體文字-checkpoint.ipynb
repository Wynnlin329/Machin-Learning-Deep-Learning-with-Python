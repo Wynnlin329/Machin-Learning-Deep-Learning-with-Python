{
 "cells": [
  {
   "cell_type": "code",
   "execution_count": 1,
   "metadata": {},
   "outputs": [],
   "source": [
    "import requests\n",
    "import matplotlib.pyplot as plt\n",
    "from matplotlib.patches import Rectangle\n",
    "from PIL import Image\n",
    "from io import BytesIO"
   ]
  },
  {
   "cell_type": "code",
   "execution_count": null,
   "metadata": {},
   "outputs": [],
   "source": [
    "#Azure機器學習功能基本語法"
   ]
  },
  {
   "cell_type": "code",
   "execution_count": 6,
   "metadata": {},
   "outputs": [
    {
     "name": "stdout",
     "output_type": "stream",
     "text": [
      "{'language': 'zh-Hant', 'textAngle': 0.0, 'orientation': 'Up', 'regions': [{'boundingBox': '569,122,2008,167', 'lines': [{'boundingBox': '569,122,2008,167', 'words': [{'boundingBox': '569,129,388,132', 'text': '2018'}, {'boundingBox': '973,122,162,167', 'text': '年'}, {'boundingBox': '1152,122,165,165', 'text': '南'}, {'boundingBox': '1332,122,165,165', 'text': '韓'}, {'boundingBox': '1509,122,169,165', 'text': '代'}, {'boundingBox': '1691,123,167,162', 'text': '表'}, {'boundingBox': '1872,122,166,165', 'text': '成'}, {'boundingBox': '2051,122,166,166', 'text': '語'}, {'boundingBox': '2231,122,166,166', 'text': '排'}, {'boundingBox': '2412,123,165,164', 'text': '行'}]}]}, {'boundingBox': '906,400,159,1112', 'lines': [{'boundingBox': '906,400,138,112', 'words': [{'boundingBox': '906,400,80,112', 'text': '#'}, {'boundingBox': '1004,402,40,108', 'text': '1'}]}, {'boundingBox': '906,650,158,112', 'words': [{'boundingBox': '906,650,80,112', 'text': '#'}, {'boundingBox': '992,652,72,108', 'text': '2'}]}, {'boundingBox': '906,901,159,111', 'words': [{'boundingBox': '906,901,80,111', 'text': '#'}, {'boundingBox': '994,902,71,110', 'text': '3'}]}, {'boundingBox': '906,1150,158,112', 'words': [{'boundingBox': '906,1150,80,112', 'text': '#'}, {'boundingBox': '990,1152,74,108', 'text': '4'}]}, {'boundingBox': '906,1400,159,112', 'words': [{'boundingBox': '906,1400,80,112', 'text': '#'}, {'boundingBox': '994,1404,71,108', 'text': '5'}]}]}, {'boundingBox': '1288,409,473,1110', 'lines': [{'boundingBox': '1288,409,473,110', 'words': [{'boundingBox': '1288,409,114,110', 'text': '任'}, {'boundingBox': '1410,409,111,107', 'text': '重'}, {'boundingBox': '1531,409,110,109', 'text': '道'}, {'boundingBox': '1651,409,110,110', 'text': '遠'}]}, {'boundingBox': '1292,658,468,112', 'words': [{'boundingBox': '1292,659,109,109', 'text': '密'}, {'boundingBox': '1409,658,112,112', 'text': '雲'}, {'boundingBox': '1531,659,110,110', 'text': '不'}, {'boundingBox': '1651,658,109,111', 'text': '雨'}]}, {'boundingBox': '1291,909,470,111', 'words': [{'boundingBox': '1291,909,106,111', 'text': '功'}, {'boundingBox': '1409,909,111,109', 'text': '在'}, {'boundingBox': '1531,909,110,109', 'text': '不'}, {'boundingBox': '1651,909,110,109', 'text': '舍'}]}, {'boundingBox': '1289,1158,471,112', 'words': [{'boundingBox': '1289,1158,112,112', 'text': '雲'}, {'boundingBox': '1410,1158,110,112', 'text': '霧'}, {'boundingBox': '1530,1159,111,110', 'text': '青'}, {'boundingBox': '1651,1159,109,109', 'text': '天'}]}, {'boundingBox': '1291,1408,470,111', 'words': [{'boundingBox': '1291,1409,110,102', 'text': '左'}, {'boundingBox': '1410,1408,111,111', 'text': '顧'}, {'boundingBox': '1531,1408,110,110', 'text': '右'}, {'boundingBox': '1654,1408,107,110', 'text': '盼'}]}]}]}\n"
     ]
    }
   ],
   "source": [
    "subscription_key = 'e400e3bf0a09443d880e5bf0e1895eb8'#資源key1\n",
    "vision_base_url = 'https://southeastasia.api.cognitive.microsoft.com/vision/v2.0/'#資源端點\n",
    "ocr_url = vision_base_url + \"ocr\"#功能為OCR\n",
    "imgur_url = 'https://i.imgur.com/ptMvd6w.png'#遠端圖片(要辨識的圖片)\n",
    "headers = {'Ocp-Apim-Subscription-Key':subscription_key}\n",
    "params = {'language':'unk','detectOrientation':'true'}#'language':'unk'設定自動偵測語言種類，'detectOrientation':'true'設定自動偵測文字的方向\n",
    "data = {'url':imgur_url}\n",
    "response = requests.post(ocr_url, headers = headers ,params = params, json = data)\n",
    "analysis = response.json()\n",
    "print(analysis)\n",
    "#'language': 'zh-Hant' 繁體中文 ，'orientation': 'Up'文字方向向上 ，boundingBox': '569,129,388,132'座標資料，'words':文字結果"
   ]
  },
  {
   "cell_type": "code",
   "execution_count": null,
   "metadata": {},
   "outputs": [],
   "source": [
    "#line_infos串列儲存所有文字的座標"
   ]
  },
  {
   "cell_type": "code",
   "execution_count": 8,
   "metadata": {},
   "outputs": [
    {
     "data": {
      "text/plain": [
       "[[{'boundingBox': '569,122,2008,167',\n",
       "   'words': [{'boundingBox': '569,129,388,132', 'text': '2018'},\n",
       "    {'boundingBox': '973,122,162,167', 'text': '年'},\n",
       "    {'boundingBox': '1152,122,165,165', 'text': '南'},\n",
       "    {'boundingBox': '1332,122,165,165', 'text': '韓'},\n",
       "    {'boundingBox': '1509,122,169,165', 'text': '代'},\n",
       "    {'boundingBox': '1691,123,167,162', 'text': '表'},\n",
       "    {'boundingBox': '1872,122,166,165', 'text': '成'},\n",
       "    {'boundingBox': '2051,122,166,166', 'text': '語'},\n",
       "    {'boundingBox': '2231,122,166,166', 'text': '排'},\n",
       "    {'boundingBox': '2412,123,165,164', 'text': '行'}]}],\n",
       " [{'boundingBox': '906,400,138,112',\n",
       "   'words': [{'boundingBox': '906,400,80,112', 'text': '#'},\n",
       "    {'boundingBox': '1004,402,40,108', 'text': '1'}]},\n",
       "  {'boundingBox': '906,650,158,112',\n",
       "   'words': [{'boundingBox': '906,650,80,112', 'text': '#'},\n",
       "    {'boundingBox': '992,652,72,108', 'text': '2'}]},\n",
       "  {'boundingBox': '906,901,159,111',\n",
       "   'words': [{'boundingBox': '906,901,80,111', 'text': '#'},\n",
       "    {'boundingBox': '994,902,71,110', 'text': '3'}]},\n",
       "  {'boundingBox': '906,1150,158,112',\n",
       "   'words': [{'boundingBox': '906,1150,80,112', 'text': '#'},\n",
       "    {'boundingBox': '990,1152,74,108', 'text': '4'}]},\n",
       "  {'boundingBox': '906,1400,159,112',\n",
       "   'words': [{'boundingBox': '906,1400,80,112', 'text': '#'},\n",
       "    {'boundingBox': '994,1404,71,108', 'text': '5'}]}],\n",
       " [{'boundingBox': '1288,409,473,110',\n",
       "   'words': [{'boundingBox': '1288,409,114,110', 'text': '任'},\n",
       "    {'boundingBox': '1410,409,111,107', 'text': '重'},\n",
       "    {'boundingBox': '1531,409,110,109', 'text': '道'},\n",
       "    {'boundingBox': '1651,409,110,110', 'text': '遠'}]},\n",
       "  {'boundingBox': '1292,658,468,112',\n",
       "   'words': [{'boundingBox': '1292,659,109,109', 'text': '密'},\n",
       "    {'boundingBox': '1409,658,112,112', 'text': '雲'},\n",
       "    {'boundingBox': '1531,659,110,110', 'text': '不'},\n",
       "    {'boundingBox': '1651,658,109,111', 'text': '雨'}]},\n",
       "  {'boundingBox': '1291,909,470,111',\n",
       "   'words': [{'boundingBox': '1291,909,106,111', 'text': '功'},\n",
       "    {'boundingBox': '1409,909,111,109', 'text': '在'},\n",
       "    {'boundingBox': '1531,909,110,109', 'text': '不'},\n",
       "    {'boundingBox': '1651,909,110,109', 'text': '舍'}]},\n",
       "  {'boundingBox': '1289,1158,471,112',\n",
       "   'words': [{'boundingBox': '1289,1158,112,112', 'text': '雲'},\n",
       "    {'boundingBox': '1410,1158,110,112', 'text': '霧'},\n",
       "    {'boundingBox': '1530,1159,111,110', 'text': '青'},\n",
       "    {'boundingBox': '1651,1159,109,109', 'text': '天'}]},\n",
       "  {'boundingBox': '1291,1408,470,111',\n",
       "   'words': [{'boundingBox': '1291,1409,110,102', 'text': '左'},\n",
       "    {'boundingBox': '1410,1408,111,111', 'text': '顧'},\n",
       "    {'boundingBox': '1531,1408,110,110', 'text': '右'},\n",
       "    {'boundingBox': '1654,1408,107,110', 'text': '盼'}]}]]"
      ]
     },
     "execution_count": 8,
     "metadata": {},
     "output_type": "execute_result"
    }
   ],
   "source": [
    "line_infos = []\n",
    "for region in analysis['regions']:\n",
    "    line_infos.append(region['lines'])\n",
    "line_infos\n"
   ]
  },
  {
   "cell_type": "code",
   "execution_count": 25,
   "metadata": {},
   "outputs": [
    {
     "data": {
      "text/plain": [
       "[{'boundingBox': '569,129,388,132', 'text': '2018'},\n",
       " {'boundingBox': '973,122,162,167', 'text': '年'},\n",
       " {'boundingBox': '1152,122,165,165', 'text': '南'},\n",
       " {'boundingBox': '1332,122,165,165', 'text': '韓'},\n",
       " {'boundingBox': '1509,122,169,165', 'text': '代'},\n",
       " {'boundingBox': '1691,123,167,162', 'text': '表'},\n",
       " {'boundingBox': '1872,122,166,165', 'text': '成'},\n",
       " {'boundingBox': '2051,122,166,166', 'text': '語'},\n",
       " {'boundingBox': '2231,122,166,166', 'text': '排'},\n",
       " {'boundingBox': '2412,123,165,164', 'text': '行'},\n",
       " {'boundingBox': '906,400,80,112', 'text': '#'},\n",
       " {'boundingBox': '1004,402,40,108', 'text': '1'},\n",
       " {'boundingBox': '906,650,80,112', 'text': '#'},\n",
       " {'boundingBox': '992,652,72,108', 'text': '2'},\n",
       " {'boundingBox': '906,901,80,111', 'text': '#'},\n",
       " {'boundingBox': '994,902,71,110', 'text': '3'},\n",
       " {'boundingBox': '906,1150,80,112', 'text': '#'},\n",
       " {'boundingBox': '990,1152,74,108', 'text': '4'},\n",
       " {'boundingBox': '906,1400,80,112', 'text': '#'},\n",
       " {'boundingBox': '994,1404,71,108', 'text': '5'},\n",
       " {'boundingBox': '1288,409,114,110', 'text': '任'},\n",
       " {'boundingBox': '1410,409,111,107', 'text': '重'},\n",
       " {'boundingBox': '1531,409,110,109', 'text': '道'},\n",
       " {'boundingBox': '1651,409,110,110', 'text': '遠'},\n",
       " {'boundingBox': '1292,659,109,109', 'text': '密'},\n",
       " {'boundingBox': '1409,658,112,112', 'text': '雲'},\n",
       " {'boundingBox': '1531,659,110,110', 'text': '不'},\n",
       " {'boundingBox': '1651,658,109,111', 'text': '雨'},\n",
       " {'boundingBox': '1291,909,106,111', 'text': '功'},\n",
       " {'boundingBox': '1409,909,111,109', 'text': '在'},\n",
       " {'boundingBox': '1531,909,110,109', 'text': '不'},\n",
       " {'boundingBox': '1651,909,110,109', 'text': '舍'},\n",
       " {'boundingBox': '1289,1158,112,112', 'text': '雲'},\n",
       " {'boundingBox': '1410,1158,110,112', 'text': '霧'},\n",
       " {'boundingBox': '1530,1159,111,110', 'text': '青'},\n",
       " {'boundingBox': '1651,1159,109,109', 'text': '天'},\n",
       " {'boundingBox': '1291,1409,110,102', 'text': '左'},\n",
       " {'boundingBox': '1410,1408,111,111', 'text': '顧'},\n",
       " {'boundingBox': '1531,1408,110,110', 'text': '右'},\n",
       " {'boundingBox': '1654,1408,107,110', 'text': '盼'}]"
      ]
     },
     "execution_count": 25,
     "metadata": {},
     "output_type": "execute_result"
    }
   ],
   "source": [
    "word_infos = []\n",
    "for line in line_infos:\n",
    "    #print(line)\n",
    "    #print('==================')\n",
    "    for word_metedata in line:\n",
    "        #print(word_metedata)\n",
    "        #print('----------------')\n",
    "        for word_info in word_metedata['words']:\n",
    "            #print(word_info)\n",
    "            word_infos.append(word_info)\n",
    "word_infos"
   ]
  },
  {
   "cell_type": "code",
   "execution_count": null,
   "metadata": {},
   "outputs": [],
   "source": [
    "#框選所有文字，根據word_infos串列資料逐一將文字框選起來"
   ]
  },
  {
   "cell_type": "code",
   "execution_count": 30,
   "metadata": {},
   "outputs": [
    {
     "name": "stdout",
     "output_type": "stream",
     "text": [
      "[569, 129, 388, 132]\n",
      "[973, 122, 162, 167]\n",
      "[1152, 122, 165, 165]\n",
      "[1332, 122, 165, 165]\n",
      "[1509, 122, 169, 165]\n",
      "[1691, 123, 167, 162]\n",
      "[1872, 122, 166, 165]\n",
      "[2051, 122, 166, 166]\n",
      "[2231, 122, 166, 166]\n",
      "[2412, 123, 165, 164]\n",
      "[906, 400, 80, 112]\n",
      "[1004, 402, 40, 108]\n",
      "[906, 650, 80, 112]\n",
      "[992, 652, 72, 108]\n",
      "[906, 901, 80, 111]\n",
      "[994, 902, 71, 110]\n",
      "[906, 1150, 80, 112]\n",
      "[990, 1152, 74, 108]\n",
      "[906, 1400, 80, 112]\n",
      "[994, 1404, 71, 108]\n",
      "[1288, 409, 114, 110]\n",
      "[1410, 409, 111, 107]\n",
      "[1531, 409, 110, 109]\n",
      "[1651, 409, 110, 110]\n",
      "[1292, 659, 109, 109]\n",
      "[1409, 658, 112, 112]\n",
      "[1531, 659, 110, 110]\n",
      "[1651, 658, 109, 111]\n",
      "[1291, 909, 106, 111]\n",
      "[1409, 909, 111, 109]\n",
      "[1531, 909, 110, 109]\n",
      "[1651, 909, 110, 109]\n",
      "[1289, 1158, 112, 112]\n",
      "[1410, 1158, 110, 112]\n",
      "[1530, 1159, 111, 110]\n",
      "[1651, 1159, 109, 109]\n",
      "[1291, 1409, 110, 102]\n",
      "[1410, 1408, 111, 111]\n",
      "[1531, 1408, 110, 110]\n",
      "[1654, 1408, 107, 110]\n"
     ]
    },
    {
     "data": {
      "text/plain": [
       "(-0.5, 2879.5, 1619.5, -0.5)"
      ]
     },
     "execution_count": 30,
     "metadata": {},
     "output_type": "execute_result"
    },
    {
     "data": {
      "image/png": "[encoded data removed]",
      "text/plain": [
       "<Figure size 864x864 with 1 Axes>"
      ]
     },
     "metadata": {
      "needs_background": "light"
     },
     "output_type": "display_data"
    }
   ],
   "source": [
    "plt.figure(figsize = (12,12))\n",
    "image = Image.open(BytesIO(requests.get(imgur_url).content))\n",
    "ax = plt.imshow(image,alpha = 0.5)\n",
    "for word in word_infos:\n",
    "    bbox = [int(num) for num in word['boundingBox'].split(\",\")]\n",
    "#     text = word['text']\n",
    "#     print(text)\n",
    "    print(bbox)\n",
    "    origin = (bbox[0],bbox[1])\n",
    "    patch = Rectangle(origin,bbox[2],bbox[3],fill = False,linewidth = 2,color = 'r')\n",
    "    ax.axes.add_patch(patch)\n",
    "plt.axis('off')#隱藏坐標軸"
   ]
  },
  {
   "cell_type": "code",
   "execution_count": null,
   "metadata": {},
   "outputs": [],
   "source": []
  },
  {
   "cell_type": "code",
   "execution_count": null,
   "metadata": {},
   "outputs": [],
   "source": []
  },
  {
   "cell_type": "code",
   "execution_count": null,
   "metadata": {},
   "outputs": [],
   "source": []
  },
  {
   "cell_type": "code",
   "execution_count": null,
   "metadata": {},
   "outputs": [],
   "source": []
  },
  {
   "cell_type": "code",
   "execution_count": null,
   "metadata": {},
   "outputs": [],
   "source": []
  },
  {
   "cell_type": "code",
   "execution_count": null,
   "metadata": {},
   "outputs": [],
   "source": []
  },
  {
   "cell_type": "code",
   "execution_count": null,
   "metadata": {},
   "outputs": [],
   "source": []
  },
  {
   "cell_type": "code",
   "execution_count": null,
   "metadata": {},
   "outputs": [],
   "source": []
  },
  {
   "cell_type": "code",
   "execution_count": null,
   "metadata": {},
   "outputs": [],
   "source": []
  },
  {
   "cell_type": "code",
   "execution_count": null,
   "metadata": {},
   "outputs": [],
   "source": []
  },
  {
   "cell_type": "code",
   "execution_count": null,
   "metadata": {},
   "outputs": [],
   "source": []
  },
  {
   "cell_type": "code",
   "execution_count": null,
   "metadata": {},
   "outputs": [],
   "source": []
  },
  {
   "cell_type": "code",
   "execution_count": null,
   "metadata": {},
   "outputs": [],
   "source": []
  },
  {
   "cell_type": "code",
   "execution_count": null,
   "metadata": {},
   "outputs": [],
   "source": []
  },
  {
   "cell_type": "code",
   "execution_count": null,
   "metadata": {},
   "outputs": [],
   "source": []
  },
  {
   "cell_type": "code",
   "execution_count": null,
   "metadata": {},
   "outputs": [],
   "source": []
  },
  {
   "cell_type": "code",
   "execution_count": null,
   "metadata": {},
   "outputs": [],
   "source": []
  },
  {
   "cell_type": "code",
   "execution_count": null,
   "metadata": {},
   "outputs": [],
   "source": []
  },
  {
   "cell_type": "code",
   "execution_count": null,
   "metadata": {},
   "outputs": [],
   "source": []
  },
  {
   "cell_type": "code",
   "execution_count": null,
   "metadata": {},
   "outputs": [],
   "source": []
  },
  {
   "cell_type": "code",
   "execution_count": null,
   "metadata": {},
   "outputs": [],
   "source": []
  },
  {
   "cell_type": "code",
   "execution_count": null,
   "metadata": {},
   "outputs": [],
   "source": []
  },
  {
   "cell_type": "code",
   "execution_count": null,
   "metadata": {},
   "outputs": [],
   "source": []
  },
  {
   "cell_type": "code",
   "execution_count": null,
   "metadata": {},
   "outputs": [],
   "source": []
  },
  {
   "cell_type": "code",
   "execution_count": null,
   "metadata": {},
   "outputs": [],
   "source": []
  },
  {
   "cell_type": "code",
   "execution_count": null,
   "metadata": {},
   "outputs": [],
   "source": []
  },
  {
   "cell_type": "code",
   "execution_count": null,
   "metadata": {},
   "outputs": [],
   "source": []
  },
  {
   "cell_type": "code",
   "execution_count": null,
   "metadata": {},
   "outputs": [],
   "source": []
  },
  {
   "cell_type": "code",
   "execution_count": null,
   "metadata": {},
   "outputs": [],
   "source": []
  },
  {
   "cell_type": "code",
   "execution_count": null,
   "metadata": {},
   "outputs": [],
   "source": []
  },
  {
   "cell_type": "code",
   "execution_count": null,
   "metadata": {},
   "outputs": [],
   "source": []
  },
  {
   "cell_type": "code",
   "execution_count": null,
   "metadata": {},
   "outputs": [],
   "source": []
  },
  {
   "cell_type": "code",
   "execution_count": null,
   "metadata": {},
   "outputs": [],
   "source": []
  },
  {
   "cell_type": "code",
   "execution_count": null,
   "metadata": {},
   "outputs": [],
   "source": []
  },
  {
   "cell_type": "code",
   "execution_count": null,
   "metadata": {},
   "outputs": [],
   "source": []
  },
  {
   "cell_type": "code",
   "execution_count": null,
   "metadata": {},
   "outputs": [],
   "source": []
  },
  {
   "cell_type": "code",
   "execution_count": null,
   "metadata": {},
   "outputs": [],
   "source": []
  },
  {
   "cell_type": "code",
   "execution_count": null,
   "metadata": {},
   "outputs": [],
   "source": []
  }
 ],
 "metadata": {
  "kernelspec": {
   "display_name": "Python 3",
   "language": "python",
   "name": "python3"
  },
  "language_info": {
   "codemirror_mode": {
    "name": "ipython",
    "version": 3
   },
   "file_extension": ".py",
   "mimetype": "text/x-python",
   "name": "python",
   "nbconvert_exporter": "python",
   "pygments_lexer": "ipython3",
   "version": "3.7.3"
  }
 },
 "nbformat": 4,
 "nbformat_minor": 2
}
